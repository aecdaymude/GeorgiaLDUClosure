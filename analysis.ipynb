{
 "cells": [
  {
   "cell_type": "markdown",
   "id": "4a5326fb-ed48-4211-8437-d4ffb8a3e9d0",
   "metadata": {},
   "source": [
    "# Georgia LDU Closure Analysis (2012-2016)"
   ]
  },
  {
   "cell_type": "code",
   "execution_count": null,
   "id": "4399c65e-31bc-4487-a681-044c703fce16",
   "metadata": {},
   "outputs": [],
   "source": [
    "import pandas as pd"
   ]
  },
  {
   "cell_type": "markdown",
   "id": "67fa9898-1ad9-43f5-9ec3-b34f2220c27e",
   "metadata": {},
   "source": [
    "## Datasets\n",
    "\n",
    "### Regional Data (Counties and PCSAs)\n",
    "\n",
    "- Data from [*OASIS*](https://oasis.state.ga.us) is used to obtain birth and population counts in 2001 and 2011 by county.\n",
    "- Data from the [*Office of Management and Budget (OMB)*](https://obamawhitehouse.archives.gov/sites/default/files/omb/bulletins/2013/b-13-01.pdf) is used to identify counties contained in the Atlanta-Sandy Springs-Roswell Metropolitan Statistical Area (MSA) based on the 2010 Census (see page 23).\n",
    "- Data from the [*U.S. Census Bureau*](https://data.census.gov/cedsci/table?q=&t=Income%20and%20Poverty&g=0400000US13%240500000&y=2011&tid=ACSST5Y2011.S1903) is used to obtain 2011 median household income by county.\n",
    "- Data from the [*Georgia Board of Health Care Workforce*](https://healthcareworkforce.georgia.gov/basic-physician-needs-reports-pcsa-primary-care-service-area) in the year 2008 is used to map counties to PCSAs."
   ]
  },
  {
   "cell_type": "code",
   "execution_count": null,
   "id": "4a9d5837-c7e4-4f0f-b961-bf4a0f3928e7",
   "metadata": {},
   "outputs": [],
   "source": [
    "counties = pd.read_csv('data/counties.csv')\n",
    "display(counties)"
   ]
  },
  {
   "cell_type": "markdown",
   "id": "170a1758-d103-43d8-8e94-3553ca1dbd0e",
   "metadata": {},
   "source": [
    "### Labor & Delivery Units\n",
    "\n",
    "- Data from *Georgia Maternal and Infant Health Research Group (GMIHRG)* (private data source) is used to identify the LDUs of interest and their birth counts in 2008, 2011, and 2012; numbers of OBs, FPs, and CNMs in 2011 and 2016; and average ages of OBs in 2011 and 2016.\n",
    "- Data from the *Emory MCH Linked Vital Records Data Repository* (private data source) is used to obtain 2001 and 2011 number of births per-LDU to residents and non-residents of the county the LDU is in. It is also the source of LDU names that we consider standard.\n",
    "- Data from the [*U.S. Census Bureau*]() is used to identify urban areas in 2010.\n",
    "- Data from [*Google Maps*](https://www.google.com/maps/d/u/0/edit?mid=1_xMZrJgPbcInCcq8CgdmwuncWMWSOoJj&usp=sharing) is used to identify, for each LDU, the closest (other) LDU (within Georgia), the number of driving miles to the closest LDU, the closest urban area (in any state), and the number of driving miles to the closest urban area in 2011."
   ]
  },
  {
   "cell_type": "code",
   "execution_count": null,
   "id": "138693c3-6031-4dc5-9e60-fe62dec7fcb9",
   "metadata": {},
   "outputs": [],
   "source": [
    "ldus = pd.read_csv('data/ldus.csv')\n",
    "display(ldus)"
   ]
  },
  {
   "cell_type": "markdown",
   "id": "07f17588-0544-401d-993d-a07b6a18457a",
   "metadata": {},
   "source": [
    "### Patients\n",
    "\n",
    "- Data from the *Emory MCH Linked Vital Records Data Repository* (private data source) is used to identify per-patient birth data for births in 2011 by birthing LDU, payor status, race, ethnicity, and county of residence."
   ]
  },
  {
   "cell_type": "code",
   "execution_count": null,
   "id": "c58e5b41-3961-42ed-bb80-1d845a60a59a",
   "metadata": {},
   "outputs": [],
   "source": [
    "patients = pd.read_csv('data/patients.csv')\n",
    "display(patients)"
   ]
  },
  {
   "cell_type": "markdown",
   "id": "ff65392d-9c6d-4985-bc1f-11994a445841",
   "metadata": {},
   "source": [
    "## Derived Columns\n",
    "\n",
    "Based on the raw data above, we derive a series of new columns at the LDU and PCSA levels.\n",
    "\n",
    "### Inclusion Criteria for Rural PCSAs\n",
    "\n",
    "PCSAs included in the sample are *rural*, meaning that in 2011:\n",
    "\n",
    "1. They did not contain any counties that were within the Atlanta MSA.\n",
    "2. They did not contain any counties with population at least 50,000.\n",
    "3. They contained exactly one LDU."
   ]
  },
  {
   "cell_type": "code",
   "execution_count": null,
   "id": "53699888-3a84-4256-8334-9cf267cb5e53",
   "metadata": {},
   "outputs": [],
   "source": [
    "# Construct a DataFrame of 96 PCSAs and a groupby of counties by PCSA.\n",
    "pcsas = pd.DataFrame({'PCSA' : [x+1 for x in range(96)]})\n",
    "countybypcsa = counties.groupby('PCSA', as_index=False)\n",
    "\n",
    "# Identify PCSAs that have no counties in the Atlanta MSA.\n",
    "pcsas['Inc. AMSA'] = (countybypcsa['In MSA (2010)'].sum()['In MSA (2010)'] == 0)\n",
    "\n",
    "# Identify PCSAs whose counties all have population strictly less than 50K.\n",
    "pcsas['Inc. Pop.'] = (countybypcsa['Population (2011)'].max()['Population (2011)'] < 50000)\n",
    "\n",
    "# Identify PCSAs containing exactly one LDU.\n",
    "df = ldus.groupby('County', as_index=False).size()\n",
    "df = counties.join(df.set_index('County'), on='County')\n",
    "df = df.groupby('PCSA', as_index=False)['size'].sum()\n",
    "pcsas = pcsas.join(df.set_index('PCSA'), on='PCSA')\n",
    "pcsas['Inc. Single LDU'] = (pcsas['size'] == 1)\n",
    "del pcsas['size']\n",
    "\n",
    "# Determine which PCSAs are in sample.\n",
    "pcsas['In Sample'] = pcsas['Inc. AMSA'] & pcsas['Inc. Pop.'] & pcsas['Inc. Single LDU']\n",
    "display(pcsas)\n",
    "print(pcsas.groupby('In Sample').size())"
   ]
  },
  {
   "cell_type": "markdown",
   "id": "38097393-ff09-4913-a720-8f609b9417a1",
   "metadata": {},
   "source": [
    "Thus, we determine that there are 30 PCSAs that meet our inclusion criteria; the other 66 do not."
   ]
  },
  {
   "cell_type": "markdown",
   "id": "585cd00d-ef16-464b-839c-6e81c231d0cc",
   "metadata": {},
   "source": [
    "### Aggregate Birth Volume and Population Demographics by PCSA\n",
    "\n",
    "We additionally calculate, per-PCSA, the aggregate number of births (2001 and 2011), population (2001 and 2011), female population (2011), Black female population (2011), White female population (2011), and household income (2011). Median household income is available on a per-county basis; to calculate a PCSA's household income, we take a weighted average of its counties' median household incomes weighted by each county's proportion of the PCSA population. Mathematically, for a PCSA $p$ containing counties $c_1, \\ldots, c_k$ we have:\n",
    "$$\n",
    "income(p) = \\sum_{i=1}^k \\left(\\frac{population(c_i)}{population(p)}\\right) \\cdot income(c_i)\n",
    "$$"
   ]
  },
  {
   "cell_type": "code",
   "execution_count": null,
   "id": "bfa3d8b5-20b0-4cac-8b40-467334f069f7",
   "metadata": {},
   "outputs": [],
   "source": [
    "# Calculate the number of births per-PCSA in 2001 and 2011, the total population\n",
    "# per-PCSA in 2001 and 2011, and the female, Black female, and White female\n",
    "# populations per-PCSA in 2011.\n",
    "for count in ['# Births (2001)', '# Births (2011)', 'Population (2001)', \\\n",
    "              'Population (2011)', 'Females 15-44 (2011)', \\\n",
    "              'Black Females 14-45 (2011)', 'White Females 14-45 (2011)']:\n",
    "    pcsas = pcsas.join(countybypcsa[count].sum().set_index('PCSA'), on='PCSA')\n",
    "    \n",
    "# Calculate the median household income per PCSA using population-weighted\n",
    "# proportions by county.\n",
    "incprod = counties.groupby('PCSA')\\\n",
    "                  .apply(lambda x: (x['Population (2011)'] * \\\n",
    "                                    x['Median Household Income (2011)']).sum())\\\n",
    "                  .to_frame('incprod').reset_index()\n",
    "pcsas = pcsas.join(incprod.set_index('PCSA'), on='PCSA')\n",
    "pcsas['Household Income (2011)'] = pcsas['incprod'] / pcsas['Population (2011)']\n",
    "del pcsas['incprod']\n",
    "\n",
    "display(pcsas)"
   ]
  },
  {
   "cell_type": "markdown",
   "id": "95511a1d-bd30-4686-b245-884c77d95f9e",
   "metadata": {},
   "source": [
    "### Provider Count and Load by LDU\n",
    "\n",
    "In addition to the raw LDU data, we also calculate the number of OB equivalents per LDU in 2011 and the number of births per provider (i.e., OB equivalent) in 2011. An OB equivalent is calculated as:\n",
    "$$\n",
    "(\\#OBs) + \\frac{1}{1.55} \\cdot (\\#CNMs) + \\frac{0.7}{1.55} \\cdot (\\#FPs)\n",
    "$$"
   ]
  },
  {
   "cell_type": "code",
   "execution_count": null,
   "id": "8c0aaf9c-46c8-4887-bcf1-4d4dbd66a24c",
   "metadata": {},
   "outputs": [],
   "source": [
    "ldus['OB Equiv. (2011)'] = ldus['# OBs (2011)'] + (1/1.55) * ldus['# CNMs (2011)']\\\n",
    "                           + (0.7/1.55) * ldus['# FPs (2011)']\n",
    "ldus['# Births per Provider (2011)'] = ldus['# Births (2011)'] / ldus['OB Equiv. (2011)']\n",
    "display(ldus)"
   ]
  },
  {
   "cell_type": "markdown",
   "id": "2603a5f5-493b-4e57-be50-cab005323661",
   "metadata": {},
   "source": [
    "### Patient Payor Types and Groups\n",
    "\n",
    "Finally, we aggregate different payor statuses into types and groups according to the dictionaries below."
   ]
  },
  {
   "cell_type": "code",
   "execution_count": null,
   "id": "8508255e-04fd-4865-a33b-18b7fefe82f9",
   "metadata": {},
   "outputs": [],
   "source": [
    "payortypes = {'Unknown': 'Other/Unknown',\n",
    "              'Champus': 'Commercial/Employer-Based',\n",
    "              'Medicaid': 'Medicaid',\n",
    "              'Commercial Insurance': 'Commercial/Employer-Based',\n",
    "              'Other Government Assistance': 'Other Govt.',\n",
    "              'Other': 'Other/Unknown',\n",
    "              'Self Pay': 'Self Pay'}\n",
    "\n",
    "payorgroups = {'Commercial/Employer-Based': 'Commercial/Employer-Based',\n",
    "               'Medicaid': 'Assistance/Self Pay',\n",
    "               'Other Govt.': 'Assistance/Self Pay',\n",
    "               'Self Pay': 'Assistance/Self Pay',\n",
    "               'Other/Unknown': 'Other/Unknown'}\n",
    "\n",
    "patients['Payor Type'] = patients['Payor'].map(lambda x: payortypes[x])\n",
    "patients['Payor Group'] = patients['Payor Type'].map(lambda x: payorgroups[x])\n",
    "display(patients)"
   ]
  }
 ],
 "metadata": {
  "kernelspec": {
   "display_name": "Python 3 (ipykernel)",
   "language": "python",
   "name": "python3"
  },
  "language_info": {
   "codemirror_mode": {
    "name": "ipython",
    "version": 3
   },
   "file_extension": ".py",
   "mimetype": "text/x-python",
   "name": "python",
   "nbconvert_exporter": "python",
   "pygments_lexer": "ipython3",
   "version": "3.9.7"
  }
 },
 "nbformat": 4,
 "nbformat_minor": 5
}
