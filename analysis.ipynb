{
 "cells": [
  {
   "cell_type": "markdown",
   "id": "4a5326fb-ed48-4211-8437-d4ffb8a3e9d0",
   "metadata": {},
   "source": [
    "# Georgia LDU Closure Analysis (2012-2016)"
   ]
  },
  {
   "cell_type": "code",
   "execution_count": null,
   "id": "4399c65e-31bc-4487-a681-044c703fce16",
   "metadata": {},
   "outputs": [],
   "source": [
    "import pandas as pd"
   ]
  },
  {
   "cell_type": "markdown",
   "id": "67fa9898-1ad9-43f5-9ec3-b34f2220c27e",
   "metadata": {},
   "source": [
    "## Datasets\n",
    "\n",
    "### Regional Data (Counties and PCSAs)\n",
    "\n",
    "- Data from [*OASIS*](https://oasis.state.ga.us) is used to obtain birth and population counts in 2001 and 2011 by county.\n",
    "- Data from the [*Office of Management and Budget (OMB)*](https://obamawhitehouse.archives.gov/sites/default/files/omb/bulletins/2013/b-13-01.pdf) is used to identify counties contained in the Atlanta-Sandy Springs-Roswell Metropolitan Statistical Area (MSA) based on the 2010 Census (see page 23).\n",
    "- Data from the [*U.S. Census Bureau*](https://data.census.gov/cedsci/table?q=&t=Income%20and%20Poverty&g=0400000US13%240500000&y=2011&tid=ACSST5Y2011.S1903) is used to obtain 2011 median household income by county.\n",
    "- Data from the [*Georgia Board of Health Care Workforce*](https://healthcareworkforce.georgia.gov/basic-physician-needs-reports-pcsa-primary-care-service-area) in the year 2008 is used to map counties to PCSAs."
   ]
  },
  {
   "cell_type": "code",
   "execution_count": null,
   "id": "4a9d5837-c7e4-4f0f-b961-bf4a0f3928e7",
   "metadata": {},
   "outputs": [],
   "source": [
    "dtypes = {'County': str, 'PCSA': int, 'In MSA (2010)': int, '# Births (2001)': int, '# Births (2011)': int, \\\n",
    "          'Population (2001)': int, 'Population (2011)': int, 'Females 15-44 (2011)': int, \\\n",
    "          'Black Females 15-44 (2011)': int, 'White Females 15-44 (2011)': int, \\\n",
    "          'Median Household Income (2011)': int}\n",
    "counties = pd.read_csv('data/counties.csv', dtype=dtypes)\n",
    "display(counties)"
   ]
  },
  {
   "cell_type": "markdown",
   "id": "170a1758-d103-43d8-8e94-3553ca1dbd0e",
   "metadata": {},
   "source": [
    "### Labor & Delivery Units\n",
    "\n",
    "- Data from *Georgia Maternal and Infant Health Research Group (GMIHRG)* (private data source) is used to identify the LDUs of interest and their birth counts in 2008, 2011, and 2012; numbers of OBs, FPs, and CNMs in 2011 and 2016; and average ages of OBs in 2011 and 2016.\n",
    "- Data from the *Emory MCH Linked Vital Records Data Repository* (private data source) is used to obtain 2001 and 2011 number of births per-LDU to residents and non-residents of the county the LDU is in. It is also the source of LDU names that we consider standard.\n",
    "- Data from the [*U.S. Census Bureau*]() is used to identify urban areas in 2010.\n",
    "- Data from [*Google Maps*](https://www.google.com/maps/d/u/0/edit?mid=1_xMZrJgPbcInCcq8CgdmwuncWMWSOoJj&usp=sharing) is used to identify, for each LDU, the closest (other) LDU (within Georgia), the number of driving miles to the closest LDU, the closest urban area (in any state), and the number of driving miles to the closest urban area in 2011."
   ]
  },
  {
   "cell_type": "code",
   "execution_count": null,
   "id": "138693c3-6031-4dc5-9e60-fe62dec7fcb9",
   "metadata": {},
   "outputs": [],
   "source": [
    "ldus = pd.read_csv('data/ldus.csv')\n",
    "ldus"
   ]
  },
  {
   "cell_type": "markdown",
   "id": "07f17588-0544-401d-993d-a07b6a18457a",
   "metadata": {},
   "source": [
    "### Patients\n",
    "\n",
    "- Data from the *Emory MCH Linked Vital Records Data Repository* (private data source) is used to identify per-patient birth data for births in 2011 by birthing LDU, payor status, race, ethnicity, and county of residence."
   ]
  },
  {
   "cell_type": "code",
   "execution_count": null,
   "id": "c58e5b41-3961-42ed-bb80-1d845a60a59a",
   "metadata": {},
   "outputs": [],
   "source": [
    "patients = pd.read_csv('data/patients.csv')\n",
    "patients"
   ]
  },
  {
   "cell_type": "markdown",
   "id": "ff65392d-9c6d-4985-bc1f-11994a445841",
   "metadata": {},
   "source": [
    "## Derived Columns\n",
    "\n",
    "Based on the raw data above, we derive a series of new columns at the LDU and PCSA levels.\n",
    "\n",
    "### Inclusion Criteria for Rural PCSAs\n",
    "\n",
    "PCSAs included in the sample are *rural*, meaning that in 2011:\n",
    "\n",
    "1. They did not contain any counties that were within the Atlanta MSA.\n",
    "2. They did not contain any counties with population at least 50,000.\n",
    "3. They contained exactly one LDU."
   ]
  },
  {
   "cell_type": "code",
   "execution_count": null,
   "id": "53699888-3a84-4256-8334-9cf267cb5e53",
   "metadata": {},
   "outputs": [],
   "source": [
    "# Construct a DataFrame of 96 PCSAs.\n",
    "pcsas = pd.DataFrame({'PCSA' : [x+1 for x in range(96)]})\n",
    "\n",
    "# Count how many counties are in the Atlanta MSA per PCSA.\n",
    "include1 = counties.groupby('PCSA', as_index=False)['In MSA (2010)'].sum()\n",
    "pcsas['Inc. AMSA'] = (include1['In MSA (2010)'] == 0)\n",
    "\n",
    "# Mark all PCSAs whose counties all have population strictly less than 50K.\n",
    "include2 = counties.groupby('PCSA', as_index=False)['Population (2011)'].max()\n",
    "pcsas['Inc. Population (2011)'] = (include2['Population (2011)'] < 50000)\n",
    "\n",
    "# Count how many LDUs are in each PCSA.\n",
    "include3 = ldus.groupby('County', as_index=False).size()\n",
    "include3 = counties.join(include3.set_index('County'), on='County')\n",
    "include3 = include3.groupby('PCSA', as_index=False)['size'].sum()\n",
    "pcsas = pcsas.join(include3.set_index('PCSA'), on='PCSA')\n",
    "pcsas['Inc. Single LDU'] = (pcsas['size'] == 1)\n",
    "del pcsas['size']\n",
    "\n",
    "# Determine which PCSAs are in sample.\n",
    "pcsas['In Sample'] = pcsas['Inc. AMSA'] & pcsas['Inc. Population (2011)'] & pcsas['Inc. Single LDU']\n",
    "display(pcsas)"
   ]
  },
  {
   "cell_type": "markdown",
   "id": "38097393-ff09-4913-a720-8f609b9417a1",
   "metadata": {},
   "source": [
    "Thus, we determine that there are 30 PCSAs that meet our inclusion criteria; the other 66 do not."
   ]
  }
 ],
 "metadata": {
  "kernelspec": {
   "display_name": "Python 3 (ipykernel)",
   "language": "python",
   "name": "python3"
  },
  "language_info": {
   "codemirror_mode": {
    "name": "ipython",
    "version": 3
   },
   "file_extension": ".py",
   "mimetype": "text/x-python",
   "name": "python",
   "nbconvert_exporter": "python",
   "pygments_lexer": "ipython3",
   "version": "3.9.7"
  }
 },
 "nbformat": 4,
 "nbformat_minor": 5
}
