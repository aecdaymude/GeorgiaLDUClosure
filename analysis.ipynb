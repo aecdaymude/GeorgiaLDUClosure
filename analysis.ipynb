{
 "cells": [
  {
   "cell_type": "markdown",
   "id": "4a5326fb-ed48-4211-8437-d4ffb8a3e9d0",
   "metadata": {},
   "source": [
    "# Georgia LDU Closure Analysis (2012-2016)"
   ]
  },
  {
   "cell_type": "code",
   "execution_count": 1,
   "id": "4399c65e-31bc-4487-a681-044c703fce16",
   "metadata": {},
   "outputs": [],
   "source": [
    "from helper import *\n",
    "show_dfs = False"
   ]
  },
  {
   "cell_type": "markdown",
   "id": "67fa9898-1ad9-43f5-9ec3-b34f2220c27e",
   "metadata": {},
   "source": [
    "## Datasets"
   ]
  },
  {
   "cell_type": "markdown",
   "id": "03bc42e4-e223-45fb-a0aa-c9ced43a6309",
   "metadata": {},
   "source": [
    "### Patients\n",
    "\n",
    "- Data from the *Emory MCH Linked Vital Records Data Repository* (private data source) is used to identify per-patient birth data for births in 2011 by birthing LDU, payor status, race, ethnicity, and county of residence."
   ]
  },
  {
   "cell_type": "code",
   "execution_count": 2,
   "id": "c58e5b41-3961-42ed-bb80-1d845a60a59a",
   "metadata": {},
   "outputs": [],
   "source": [
    "# Load patient data.\n",
    "patients = pd.read_csv('data/patients.csv')\n",
    "\n",
    "# Drop irrelevant columns.\n",
    "del patients['Ethnicity']\n",
    "\n",
    "show_df(patients, show_dfs)"
   ]
  },
  {
   "cell_type": "markdown",
   "id": "170a1758-d103-43d8-8e94-3553ca1dbd0e",
   "metadata": {},
   "source": [
    "### Labor & Delivery Units\n",
    "\n",
    "- Data from *Georgia Maternal and Infant Health Research Group (GMIHRG)* (private data source) is used to identify the LDUs of interest and their birth counts in 2008, 2011, and 2012; numbers of OBs, FPs, and CNMs in 2011 and 2016; and average ages of OBs in 2011 and 2016.\n",
    "- Data from the *Emory MCH Linked Vital Records Data Repository* (private data source) is used to obtain 2001 and 2011 number of births per-LDU to residents and non-residents of the county the LDU is in. It is also the source of LDU names that we consider standard.\n",
    "- Data from the [*U.S. Census Bureau*]() is used to identify urban areas in 2010.\n",
    "- Data from [*Google Maps*](https://www.google.com/maps/d/u/0/edit?mid=1_xMZrJgPbcInCcq8CgdmwuncWMWSOoJj&usp=sharing) is used to identify, for each LDU, the closest (other) LDU (within Georgia), the number of driving miles to the closest LDU, the closest urban area (in any state), and the number of driving miles to the closest urban area in 2011.\n",
    "\n",
    "This analysis primarily focuses on 2011, so all columns irrelevant to the quantitative analysis are dropped."
   ]
  },
  {
   "cell_type": "code",
   "execution_count": 3,
   "id": "138693c3-6031-4dc5-9e60-fe62dec7fcb9",
   "metadata": {},
   "outputs": [],
   "source": [
    "# Load LDU data.\n",
    "ldus = pd.read_csv('data/ldus.csv')\n",
    "\n",
    "# Drop irrelevant columns.\n",
    "for col in ['Lat/Long', '# Births (2008)', '# Births (2012)', '# OBs (2016)', \\\n",
    "            'Ave. OB Age (2016)', '# FPs (2016)', '# CNMs (2016)', \\\n",
    "            '# County Res. Births (2001)', '# County Non-Res. Births (2001)', \\\n",
    "            '# County Res. Births (2011)', '# County Non-Res. Births (2011)']:\n",
    "    del ldus[col]\n",
    "\n",
    "# Drop '(2011)' from column names since we now only have 2011 data.\n",
    "ldus.rename(columns={x: x.replace(' (2011)', '') for x in list(ldus.head())}, \\\n",
    "            inplace=True)\n",
    "\n",
    "show_df(ldus, show_dfs)"
   ]
  },
  {
   "cell_type": "markdown",
   "id": "c2fb5c3b-2506-456c-bad8-e8b9d5e3a87f",
   "metadata": {},
   "source": [
    "### Regional Data (Counties and PCSAs)\n",
    "\n",
    "- Data from [*OASIS*](https://oasis.state.ga.us) is used to obtain birth and population counts in 2001 and 2011 by county.\n",
    "- Data from the [*Office of Management and Budget (OMB)*](https://obamawhitehouse.archives.gov/sites/default/files/omb/bulletins/2013/b-13-01.pdf) is used to identify counties contained in the Atlanta-Sandy Springs-Roswell Metropolitan Statistical Area (MSA) based on the 2010 Census (see page 23).\n",
    "- Data from the [*U.S. Census Bureau*](https://data.census.gov/cedsci/table?q=&t=Income%20and%20Poverty&g=0400000US13%240500000&y=2011&tid=ACSST5Y2011.S1903) is used to obtain 2011 median household income by county.\n",
    "- Data from the [*Georgia Board of Health Care Workforce*](https://healthcareworkforce.georgia.gov/basic-physician-needs-reports-pcsa-primary-care-service-area) in the year 2008 is used to map counties to PCSAs."
   ]
  },
  {
   "cell_type": "code",
   "execution_count": 4,
   "id": "4a9d5837-c7e4-4f0f-b961-bf4a0f3928e7",
   "metadata": {},
   "outputs": [],
   "source": [
    "# Load county data.\n",
    "counties = pd.read_csv('data/counties.csv')\n",
    "\n",
    "# Drop irrelevant columns.\n",
    "del counties['Population (2001)']\n",
    "\n",
    "# Drop '(2011)' from column names since they are default.\n",
    "counties.rename(columns={x: x.replace(' (2011)', '') \\\n",
    "                         for x in list(counties.head())}, inplace=True)\n",
    "\n",
    "show_df(counties, show_dfs)"
   ]
  },
  {
   "cell_type": "markdown",
   "id": "294184c6-9387-4436-88c4-d947633c5183",
   "metadata": {
    "tags": []
   },
   "source": [
    "## Determining the Sample\n",
    "\n",
    "### Inclusion Criteria for Rural PCSAs\n",
    "\n",
    "PCSAs included in the sample are *rural*, meaning that in 2011:\n",
    "\n",
    "1. They did not contain any counties that were within the Atlanta MSA.\n",
    "2. They did not contain any counties with population at least 50,000.\n",
    "3. They contained exactly one LDU."
   ]
  },
  {
   "cell_type": "code",
   "execution_count": 5,
   "id": "53699888-3a84-4256-8334-9cf267cb5e53",
   "metadata": {},
   "outputs": [],
   "source": [
    "# Construct a DataFrame of 96 PCSAs.\n",
    "pcsas = pd.DataFrame({'PCSA' : [x+1 for x in range(96)]})\n",
    "\n",
    "# Identify PCSAs that have no counties in the Atlanta MSA.\n",
    "df = (counties.groupby('PCSA')['In MSA (2010)'].sum() == 0).to_frame('Inc. MSA')\n",
    "df1 = pcsas.join(df, on='PCSA')\n",
    "\n",
    "# Identify PCSAs whose counties all have population strictly less than 50K.\n",
    "df = (counties.groupby('PCSA')['Population'].max() < 50000).to_frame('Inc. Pop')\n",
    "df2 = pcsas.join(df, on='PCSA')\n",
    "\n",
    "# Identify PCSAs containing exactly one LDU.\n",
    "df = ldus.groupby('County').size().to_frame('# LDUs')\n",
    "df = counties.join(df, on='County')\n",
    "df = (df.groupby('PCSA')['# LDUs'].sum() == 1).to_frame('Inc. 1 LDU')\n",
    "df3 = pcsas.join(df, on='PCSA')\n",
    "\n",
    "# Determine which PCSAs are in sample.\n",
    "pcsas['In Sample'] = df1['Inc. MSA'] & df2['Inc. Pop'] & df3['Inc. 1 LDU']\n",
    "\n",
    "show_df(pcsas, show_dfs)"
   ]
  },
  {
   "cell_type": "markdown",
   "id": "65654c1a-8d67-4fe3-b094-e98610d5863e",
   "metadata": {},
   "source": [
    "### Narrowing Patients, LDUs, and Counties to the Sample\n",
    "\n",
    "With the 30 PCSAs in sample identified, the three other datasets can be winnowed down. All calculations from here on out can safely assume, due to Inclusion Criteria 3, that there is a 1:1 correspondence between LDUs and PCSAs."
   ]
  },
  {
   "cell_type": "code",
   "execution_count": 6,
   "id": "f21ec31e-be9f-4a20-9884-d85e9bc2d020",
   "metadata": {},
   "outputs": [],
   "source": [
    "# Collect the counties that are in sample.\n",
    "df1 = counties.join(pcsas.set_index('PCSA'), on='PCSA')\n",
    "s_counties = df1.drop(df1[df1['In Sample'].map(lambda x: not x)].index)\n",
    "del s_counties['In Sample']\n",
    "\n",
    "# Collect the LDUs that are in sample.\n",
    "df2 = ldus.join(df1[['County', 'In Sample']].set_index('County'), on='County')\n",
    "s_ldus = df2.drop(df2[df2['In Sample'].map(lambda x: not x)].index)\n",
    "del s_ldus['In Sample']\n",
    "\n",
    "# Collect the patients that are in sample.\n",
    "df3 = patients.join(df2[['LDU', 'In Sample']].set_index('LDU'), on='LDU')\n",
    "s_patients = df3.drop(df3[df3['In Sample'].map(lambda x: not x)].index)\n",
    "del s_patients['In Sample']\n",
    "\n",
    "# Finally, collect the PCSAs that are in sample.\n",
    "s_pcsas = pcsas.drop(pcsas[pcsas['In Sample'].map(lambda x: not x)].index)\n",
    "del s_pcsas['In Sample']"
   ]
  },
  {
   "cell_type": "markdown",
   "id": "ff65392d-9c6d-4985-bc1f-11994a445841",
   "metadata": {
    "tags": []
   },
   "source": [
    "## Derived Columns\n",
    "\n",
    "Based on the raw data above, we derive a series of new columns at the patient, LDU, and PCSA levels."
   ]
  },
  {
   "cell_type": "markdown",
   "id": "259a1d40-9435-4ec9-a8cd-882e3021e9f6",
   "metadata": {},
   "source": [
    "### Patient Payor Types/Groups and Residence\n",
    "\n",
    "We aggregate different payor statuses into types and groups according to the dictionaries below. We also identify which patients gave birth to an LDU within their county and PCSA of residence."
   ]
  },
  {
   "cell_type": "code",
   "execution_count": 7,
   "id": "8508255e-04fd-4865-a33b-18b7fefe82f9",
   "metadata": {},
   "outputs": [],
   "source": [
    "# Assign patients their payor types.\n",
    "ptypes = {'Unknown': 'Other/Unknown',\n",
    "          'Champus': 'Commercial/Employer-Based',\n",
    "          'Medicaid': 'Medicaid',\n",
    "          'Commercial Insurance': 'Commercial/Employer-Based',\n",
    "          'Other Government Assistance': 'Other Govt.',\n",
    "          'Other': 'Other/Unknown',\n",
    "          'Self Pay': 'Self Pay'}\n",
    "s_patients['Payor Type'] = s_patients['Payor'].map(lambda x: ptypes[x])\n",
    "\n",
    "# Assign patients their payor groups.\n",
    "pgroups = {'Commercial/Employer-Based': 'Commercial/Employer-Based',\n",
    "           'Medicaid': 'Assistance/Self Pay',\n",
    "           'Other Govt.': 'Assistance/Self Pay',\n",
    "           'Self Pay': 'Assistance/Self Pay',\n",
    "           'Other/Unknown': 'Other/Unknown'}\n",
    "s_patients['Payor Group'] = s_patients['Payor Type'].map(lambda x: pgroups[x])\n",
    "\n",
    "# Use the counties of each LDU to identify whether patients gave birth in their\n",
    "# county of residence.\n",
    "df1 = s_patients.join(ldus[['LDU', 'County']].set_index('LDU'), on='LDU')\n",
    "s_patients['In Res. County'] = s_patients['Res. County'] == df1['County']\n",
    "\n",
    "# Use the counties of each LDU and the mappings of counties to PCSAs to identify\n",
    "# whether patients gave birth in their PCSA of residence.\n",
    "df2 = s_patients.join(counties[['County', 'PCSA']].set_index('County'), \\\n",
    "                      on='Res. County')\n",
    "df3 = df1.join(counties[['County', 'PCSA']].set_index('County'), on='County')\n",
    "s_patients['In Res. PCSA'] = df2['PCSA'] == df3['PCSA']\n",
    "\n",
    "show_df(s_patients, show_dfs)"
   ]
  },
  {
   "cell_type": "markdown",
   "id": "68cc4d20-103d-4da1-94da-b904320490de",
   "metadata": {},
   "source": [
    "### Patient Demographics, Payor Types/Groups, and Resident Births by LDU\n",
    "\n",
    "Using the 2011 patient-level data in the above table, we aggregate the following measures by LDU:\n",
    "- Number of patients by race (Black, white, and other)\n",
    "- Number of patients by payor type (commercial/employer-based, Medicaid, self pay, other government, and other/unknown)\n",
    "- Number of patients by payor group (commercial/employer-based and assistance/self pay)\n",
    "- Number of patients in each pairwise intersection of Black vs. white and commercial/employer-based vs. assistance/self pay\n",
    "- Number of births to residents and non-residents of the LDU's county and PCSA"
   ]
  },
  {
   "cell_type": "code",
   "execution_count": 8,
   "id": "0d3c1f92-e721-4ffd-8eae-11b14d5e5a20",
   "metadata": {},
   "outputs": [],
   "source": [
    "# Count total number of patients per LDU.\n",
    "df1 = s_patients.groupby('LDU').size().to_frame('# Patients')\n",
    "s_ldus = s_ldus.join(df1, on='LDU')\n",
    "\n",
    "# Count patients by race per LDU.\n",
    "df1 = s_patients.groupby(['LDU', 'Race']).size().to_frame('#').reset_index()\n",
    "for race in ['Black or African-American', 'White']:\n",
    "    df2 = df1[df1['Race'] == race]\n",
    "    df2 = s_ldus.join(df2[['LDU', '#']].set_index('LDU'), on='LDU')\n",
    "    s_ldus[race.split()[0] + ' Patients'] = df2['#']\n",
    "s_ldus['Other/Unknown Race'] = s_ldus['# Patients'] - s_ldus['Black Patients'] \\\n",
    "                               - s_ldus['White Patients']\n",
    "\n",
    "# Count patients by payor type per LDU.\n",
    "df1 = s_patients.groupby(['LDU', 'Payor Type']).size().to_frame('#').reset_index()\n",
    "for ptype in ['Commercial/Employer-Based', 'Medicaid', 'Self Pay', \\\n",
    "              'Other Govt.', 'Other/Unknown']:\n",
    "    df2 = df1[df1['Payor Type'] == ptype]\n",
    "    df2 = s_ldus.join(df2[['LDU', '#']].set_index('LDU'), on='LDU')\n",
    "    s_ldus[ptype + ' Payors'] = df2['#'].fillna(0)\n",
    "\n",
    "# Count patients by payor group per LDU.\n",
    "df1 = s_patients.groupby(['LDU', 'Payor Group']).size().to_frame('#').reset_index()\n",
    "for pgroup in ['Commercial/Employer-Based', 'Assistance/Self Pay']:\n",
    "    df2 = df1[df1['Payor Group'] == pgroup]\n",
    "    df2 = s_ldus.join(df2[['LDU', '#']].set_index('LDU'), on='LDU')\n",
    "    s_ldus[pgroup + ' Payors'] = df2['#'].fillna(0)\n",
    "    \n",
    "# Count patients by intersection of race and payor groups.\n",
    "df1 = s_patients.groupby(['LDU', 'Race', 'Payor Group']).size()\\\n",
    "                .to_frame('#').reset_index()\n",
    "for race, pgroup in product(['Black or African-American', 'White'], \\\n",
    "                            ['Commercial/Employer-Based', 'Assistance/Self Pay']):\n",
    "    df2 = df1[(df1['Race'] == race) & (df1['Payor Group'] == pgroup)]\n",
    "    df2 = s_ldus.join(df2[['LDU', '#']].set_index('LDU'), on='LDU')\n",
    "    s_ldus[race.split()[0] + ' ' + pgroup] = df2['#'].fillna(0)\n",
    "\n",
    "# Count births to county and PCSA residents.\n",
    "for area in ['County', 'PCSA']:\n",
    "    res_str = area + ' Res. Patients'\n",
    "    nonres_str = area + ' Non-Res. Patients'\n",
    "    df1 = s_patients.groupby(['LDU', 'In Res. ' + area]).size()\\\n",
    "                    .to_frame(res_str).reset_index()\n",
    "    df2 = df1[df1['In Res. ' + area]]\n",
    "    s_ldus = s_ldus.join(df2[['LDU', res_str]].set_index('LDU'), on='LDU')\n",
    "    s_ldus[nonres_str] = s_ldus['# Patients'] - s_ldus[res_str]\n",
    "\n",
    "show_df(s_ldus, show_dfs)"
   ]
  },
  {
   "cell_type": "markdown",
   "id": "0a599b09-c9c7-477f-a999-1b27ad0dfbb5",
   "metadata": {},
   "source": [
    "### Provider Count and Load by LDU\n",
    "\n",
    "We count providers by the number of OB equivalents per LDU in 2011 and use it to calculate the number of births per provider. An OB equivalent is calculated as:\n",
    "$$\n",
    "(\\#OBs) + \\frac{1}{1.55} \\cdot (\\#CNMs) + \\frac{0.7}{1.55} \\cdot (\\#FPs)\n",
    "$$\n",
    "\n",
    "We also identify the birth volume of the closest LDU."
   ]
  },
  {
   "cell_type": "code",
   "execution_count": 9,
   "id": "8c0aaf9c-46c8-4887-bcf1-4d4dbd66a24c",
   "metadata": {},
   "outputs": [],
   "source": [
    "# Calculate OB equivalents and births per provider.\n",
    "s_ldus['OB Equiv.'] = s_ldus['# OBs'] + s_ldus['# CNMs'] / 1.55 \\\n",
    "                      + (0.7/1.55) * s_ldus['# FPs']\n",
    "s_ldus['Births per Provider'] = s_ldus['# Births'] / s_ldus['OB Equiv.']\n",
    "\n",
    "# Get the 2011 birth volume at the closest LDU.\n",
    "s_ldus = s_ldus.join(ldus[['LDU', '# Births']].set_index('LDU'), \\\n",
    "                     on='Closest GA LDU', rsuffix=' at Closest GA LDU')\n",
    "\n",
    "show_df(s_ldus, show_dfs)"
   ]
  },
  {
   "cell_type": "markdown",
   "id": "585cd00d-ef16-464b-839c-6e81c231d0cc",
   "metadata": {},
   "source": [
    "### County Birth Volume and Population Demographics by PCSA\n",
    "\n",
    "We additionally calculate, per-PCSA: the aggregate number of births (2001 and 2011), population (2011), female population (2011), Black female population (2011), white female population (2011), other female population (2011), and household income (2011). Median household income is available on a per-county basis; to calculate a PCSA's household income, we take a weighted average of its counties' median household incomes weighted by each county's proportion of the PCSA population. Mathematically, for a PCSA $p$ containing counties $c_1, \\ldots, c_k$ we have:\n",
    "$$\n",
    "\\text{income}(p) = \\sum_{i=1}^k \\left(\\frac{\\text{population}(c_i)}{\\text{population}(p)}\\right) \\cdot \\text{income}(c_i) = \\frac{1}{\\text{population}(p)} \\cdot \\sum_{i=1}^k \\text{population}(c_i) \\cdot \\text{income}(c_i)\n",
    "$$"
   ]
  },
  {
   "cell_type": "code",
   "execution_count": 10,
   "id": "bfa3d8b5-20b0-4cac-8b40-467334f069f7",
   "metadata": {},
   "outputs": [],
   "source": [
    "# Calculate the number of births per-PCSA in 2001 and 2011, the total population\n",
    "# per-PCSA in 2001 and 2011, and the female populations per-PCSA in 2011.\n",
    "for m in ['# Births (2001)', '# Births', 'Population', 'Females 15-44']:\n",
    "    s_pcsas = s_pcsas.join(s_counties.groupby('PCSA')[m].sum().to_frame(m), \\\n",
    "                           on='PCSA')\n",
    "    \n",
    "# Calculate populations of Black, white, and other race females by PCSA.\n",
    "for m in ['Black Females 15-44', 'White Females 15-44']:\n",
    "    df = s_counties.groupby('PCSA')[m].sum().to_frame('#')\n",
    "    df = s_pcsas.join(df, on='PCSA')\n",
    "    s_pcsas[m] = df['#']\n",
    "s_pcsas['Other Females 15-44'] = s_pcsas['Females 15-44'] \\\n",
    "                                 - s_pcsas['Black Females 15-44'] \\\n",
    "                                 - s_pcsas['White Females 15-44']\n",
    "    \n",
    "# Calculate the median household income per-PCSA using population-weighted\n",
    "# proportions by county.\n",
    "df = s_counties.groupby('PCSA')\\\n",
    "               .apply(lambda x: (x['Population']*x['Median Household Income'])\\\n",
    "               .sum()).to_frame('incprod')\n",
    "df = s_pcsas.join(df, on='PCSA')\n",
    "s_pcsas['Household Income'] = df['incprod'] / df['Population']"
   ]
  },
  {
   "cell_type": "markdown",
   "id": "1d97c7af-bc3d-4fd5-bb3e-31d9785eb074",
   "metadata": {},
   "source": [
    "Finally, we identify which PCSAs had LDUs that closed (recall the assumption of 1:1 LDU:PCSA correspondence by Inclusion Criterium 3)."
   ]
  },
  {
   "cell_type": "code",
   "execution_count": 11,
   "id": "a4f1a9f0-9699-49df-a7f1-79183d835fe8",
   "metadata": {},
   "outputs": [],
   "source": [
    "close_str = 'Closed 2012-2016'\n",
    "df = s_ldus.groupby('County')[close_str].sum().to_frame(close_str)\n",
    "df = s_counties[['County', 'PCSA']].join(df, on='County').fillna(0)\n",
    "df = df.groupby('PCSA')[close_str].sum().to_frame(close_str)\n",
    "s_pcsas = s_pcsas.join(df, on='PCSA')\n",
    "\n",
    "show_df(s_pcsas, show_dfs)"
   ]
  },
  {
   "cell_type": "markdown",
   "id": "399d1d17-0bed-4709-a8f6-e8fb7bf231b9",
   "metadata": {},
   "source": [
    "### Dumping the Processed Data\n",
    "\n",
    "We write the processed patient, LDU, county, and PCSA data to file for easier inspection."
   ]
  },
  {
   "cell_type": "code",
   "execution_count": 12,
   "id": "666e9e52-d88b-4a2c-b2d1-6522b93dd623",
   "metadata": {},
   "outputs": [],
   "source": [
    "s_pcsas.to_csv('data/processed_pcsas.csv')\n",
    "s_counties.to_csv('data/processed_counties.csv')\n",
    "s_ldus.to_csv('data/processed_ldus.csv')\n",
    "s_patients.to_csv('data/processed_patients.csv')"
   ]
  },
  {
   "cell_type": "markdown",
   "id": "fa1f51dc-5e51-4669-a494-b40db82b66c4",
   "metadata": {
    "tags": []
   },
   "source": [
    "## Analysis\n",
    "\n",
    "There are four classes of measures $m$ that we report statistics on.\n",
    "\n",
    "1. *Basics* (i.e., a simple count or percentage without any major statistics), for which we report the measure aggregated by open/closed LDUs/PCSAs and the percentage of the whole in each category.\n",
    "2. *Counts* (e.g., the number of births in a given year, household incomes, or populations), for which we report the total $\\sum_{p \\in P} m(p)$ and, for each subset of $P^{open}, P^{closed} \\subseteq P$, the:\n",
    "    - Mean: $mean(\\{m(p) : p \\in P^{open/closed}\\})$\n",
    "    - Median: $median(\\{m(p) : p \\in P^{open/closed}\\})$\n",
    "    - Min: $min(\\{m(p) : p \\in P^{open/closed}\\})$\n",
    "    - Max: $max(\\{m(p) : p \\in P^{open/closed}\\})$\n",
    "    - p-value of an [independent 2-sample t-test](https://docs.scipy.org/doc/scipy/reference/generated/scipy.stats.ttest_ind.html#scipy.stats.ttest_ind) on $\\{m(p) : p \\in P^{open}\\}$ vs. $\\{m(p) : p \\in P^{closed}\\}$\n",
    "    - p-value of a [Mann-Whitney U rank test](https://docs.scipy.org/doc/scipy/reference/generated/scipy.stats.mannwhitneyu.html#scipy.stats.mannwhitneyu) on $\\{m(p) : p \\in P^{open}\\}$ vs. $\\{m(p) : p \\in P^{closed}\\}$\n",
    "3. *Proportions* (e.g., the percentage of the female population in a given PCSA that is Black), for which we report the same statistics as for Counts (but the total remains the raw total, not the sum of the proportions).\n",
    "4. *Odds Ratios* (e.g., the odds of being a patient with Commercial/Employer-Based insurance in a PCSA with a closed LDU compared to one with Assistance/Self Pay), for which we use the [OpenEpi Two by Two Table Calculator](https://openepi.com/TwobyTwo/TwobyTwo.htm) to obtain odds ratios, confidence limits, and Cochran-Mantel-Haenszel adjusted odds ratios for stratified data."
   ]
  },
  {
   "cell_type": "markdown",
   "id": "2fa7ac00-af38-414e-9802-5602e4a6aa02",
   "metadata": {},
   "source": [
    "### In Text Comparison of PCSA Birth Volume in 2001 vs. 2011\n",
    "\n",
    "Before diving into predictive measures of LDU closure status, comparisons are made between birth volumes by PCSA in 2001 vs. 2011 (\"# Births (2001)\" vs. \"# Births\"). This is done across the entire sample and then within the PCSAs with closed LDUs and within those with open LDUs."
   ]
  },
  {
   "cell_type": "code",
   "execution_count": 13,
   "id": "928affd8-843c-4473-b84a-c46d1177d24f",
   "metadata": {},
   "outputs": [
    {
     "name": "stdout",
     "output_type": "stream",
     "text": [
      "Across Full Sample\n",
      "------------------\n",
      "Median # Births per PCSA (2001): 361.500\n",
      "Median # Births per PCSA (2011): 328.000\n",
      "2-Sample t-Test # Births 2001 vs. 2011: pval=0.656928\n",
      "Mann-Whitney # Births 2001 vs. 2011: pval=0.622838\n",
      "\n",
      "Among Open PCSAs\n",
      "----------------\n",
      "Median # Births per PCSA (2001): 405.000\n",
      "Median # Births per PCSA (2011): 365.000\n",
      "2-Sample t-Test # Births 2001 vs. 2011: pval=0.695208\n",
      "Mann-Whitney # Births 2001 vs. 2011: pval=0.705414\n",
      "\n",
      "Among Closed PCSAs\n",
      "------------------\n",
      "Median # Births per PCSA (2001): 310.500\n",
      "Median # Births per PCSA (2011): 313.000\n",
      "2-Sample t-Test # Births 2001 vs. 2011: pval=0.649668\n",
      "Mann-Whitney # Births 2001 vs. 2011: pval=0.699134\n",
      "\n"
     ]
    }
   ],
   "source": [
    "# Analysis across the entire sample, irregardless of LDU closure status.\n",
    "print('Across Full Sample\\n------------------')\n",
    "print('Median # Births per PCSA (2001): {:,.3f}'\\\n",
    "      .format(s_pcsas['# Births (2001)'].median()))\n",
    "print('Median # Births per PCSA (2011): {:,.3f}'\\\n",
    "      .format(s_pcsas['# Births'].median()))\n",
    "_, pval_t = ss.ttest_ind(s_pcsas['# Births (2001)'], s_pcsas['# Births'])\n",
    "print('2-Sample t-Test # Births 2001 vs. 2011: pval={:,.6f}'.format(pval_t))\n",
    "_, pval_mw = ss.mannwhitneyu(s_pcsas['# Births (2001)'], s_pcsas['# Births'], \\\n",
    "                             method='exact')\n",
    "print('Mann-Whitney # Births 2001 vs. 2011: pval={:,.6f}\\n'.format(pval_mw))\n",
    "\n",
    "# Group PCSAs by closure status.\n",
    "gb = s_pcsas.groupby('Closed 2012-2016')\n",
    "open = gb.get_group(0)\n",
    "closed = gb.get_group(1)\n",
    "\n",
    "# Analysis among PCSAs with LDUs that remained open.\n",
    "print('Among Open PCSAs\\n----------------')\n",
    "print('Median # Births per PCSA (2001): {:,.3f}'\\\n",
    "      .format(open['# Births (2001)'].median()))\n",
    "print('Median # Births per PCSA (2011): {:,.3f}'\\\n",
    "      .format(open['# Births'].median()))\n",
    "_, pval_t = ss.ttest_ind(open['# Births (2001)'], open['# Births'])\n",
    "print('2-Sample t-Test # Births 2001 vs. 2011: pval={:,.6f}'.format(pval_t))\n",
    "_, pval_mw = ss.mannwhitneyu(open['# Births (2001)'], open['# Births'], \\\n",
    "                             method='exact')\n",
    "print('Mann-Whitney # Births 2001 vs. 2011: pval={:,.6f}\\n'.format(pval_mw))\n",
    "\n",
    "# Analysis among PCSAs with LDUs that closed.\n",
    "print('Among Closed PCSAs\\n------------------')\n",
    "print('Median # Births per PCSA (2001): {:,.3f}'\\\n",
    "      .format(closed['# Births (2001)'].median()))\n",
    "print('Median # Births per PCSA (2011): {:,.3f}'\\\n",
    "      .format(closed['# Births'].median()))\n",
    "_, pval_t = ss.ttest_ind(closed['# Births (2001)'], closed['# Births'])\n",
    "print('2-Sample t-Test # Births 2001 vs. 2011: pval={:,.6f}'.format(pval_t))\n",
    "_, pval_mw = ss.mannwhitneyu(closed['# Births (2001)'], closed['# Births'], \\\n",
    "                             method='exact')\n",
    "print('Mann-Whitney # Births 2001 vs. 2011: pval={:,.6f}\\n'.format(pval_mw))"
   ]
  },
  {
   "cell_type": "markdown",
   "id": "cb020d62-5173-4f7b-bedf-4ae9cd0af3ae",
   "metadata": {
    "tags": []
   },
   "source": [
    "### Table 1: PCSA Population Demographics by LDU Closure Status (2011)\n",
    "\n",
    "Each PCSA's 2011 birth volume (\"# Births\") is investigated as both a Basic and Count measure.\n",
    "\n",
    "Each PCSA's 2001 birth volume (\"# Births (2001)\"), 2011 population (\"Population\"), 2011 female population (\"Females 15-44\"), and 2011 household income (\"Household Income\") are investigated as Counts.\n",
    "\n",
    "Each PCSA's 2011 Black female population (\"% Black Females 15-44\"), white female population (\"% White Females 15-44\"), and other race female population (\"% Other Females 15-44\") are investigated as Proportions.\n",
    "\n",
    "As an example, \"% Black Females 15-44\" operates on the set $\\left\\{\\frac{\\text{blkfem}_{2011}(p)}{\\text{fem}_{2011}(p)} : p \\in P\\right\\}$."
   ]
  },
  {
   "cell_type": "code",
   "execution_count": 14,
   "id": "1b697dd5-d57d-4fa5-8142-c638ad7183ba",
   "metadata": {},
   "outputs": [
    {
     "name": "stdout",
     "output_type": "stream",
     "text": [
      "# Births\n",
      "--------\n",
      "Total:\t\t11,976.000\n",
      "Open:\t\t10,171.000\t(84.928%)\n",
      "Closed:\t\t1,805.000\t(15.072%)\n",
      "\n",
      "# Births\n",
      "--------\n",
      "Total:\t\t11,976.000\n",
      "Open:\t\tmean=423.792\tmedian=365.000\t(101.000 - 776.000)\n",
      "Closed:\t\tmean=300.833\tmedian=313.000\t(213.000 - 361.000)\n",
      "2-Samp t-Test:\tpval=0.206188375\n",
      "Mann-Whit Test:\tpval=0.493941308\n",
      "\n",
      "# Births (2001)\n",
      "---------------\n",
      "Total:\t\t12,695.000\n",
      "Open:\t\tmean=449.292\tmedian=405.000\t(132.000 - 764.000)\n",
      "Closed:\t\tmean=318.667\tmedian=310.500\t(218.000 - 433.000)\n",
      "2-Samp t-Test:\tpval=0.167021049\n",
      "Mann-Whit Test:\tpval=0.296230053\n",
      "\n",
      "Population\n",
      "----------\n",
      "Total:\t\t935,890.000\n",
      "Open:\t\tmean=33,048.208\tmedian=26,827.000\t(9,679.000 - 61,530.000)\n",
      "Closed:\t\tmean=23,788.833\tmedian=23,035.500\t(17,125.000 - 31,086.000)\n",
      "2-Samp t-Test:\tpval=0.163304531\n",
      "Mann-Whit Test:\tpval=0.250633658\n",
      "\n",
      "Females 15-44\n",
      "-------------\n",
      "Total:\t\t178,044.000\n",
      "Open:\t\tmean=6,299.167\tmedian=5,053.500\t(1,646.000 - 12,226.000)\n",
      "Closed:\t\tmean=4,477.333\tmedian=4,397.500\t(3,281.000 - 6,405.000)\n",
      "2-Samp t-Test:\tpval=0.189474080\n",
      "Mann-Whit Test:\tpval=0.296230053\n",
      "\n",
      "Household Income\n",
      "----------------\n",
      "Total:\t\t1,049,522.682\n",
      "Open:\t\tmean=35,053.320\tmedian=34,248.881\t(31,123.253 - 43,146.000)\n",
      "Closed:\t\tmean=34,707.169\tmedian=33,588.500\t(30,427.000 - 43,704.000)\n",
      "2-Samp t-Test:\tpval=0.834974053\n",
      "Mann-Whit Test:\tpval=0.630949434\n",
      "\n",
      "% Black Females 15-44\n",
      "---------------------\n",
      "Total:\t\t53,820.000\n",
      "Open:\t\tmean=29.033%\tmedian=30.163%\t(0.884% - 53.831%)\n",
      "Closed:\t\tmean=32.743%\tmedian=34.450%\t(1.530% - 54.653%)\n",
      "2-Samp t-Test:\tpval=0.616316329\n",
      "Mann-Whit Test:\tpval=0.595269252\n",
      "\n",
      "% White Females 15-44\n",
      "---------------------\n",
      "Total:\t\t119,237.000\n",
      "Open:\t\tmean=68.240%\tmedian=67.419%\t(42.783% - 97.054%)\n",
      "Closed:\t\tmean=65.148%\tmedian=63.439%\t(43.491% - 95.706%)\n",
      "2-Samp t-Test:\tpval=0.672601075\n",
      "Mann-Whit Test:\tpval=0.667427898\n",
      "\n",
      "% Other Females 15-44\n",
      "---------------------\n",
      "Total:\t\t4,987.000\n",
      "Open:\t\tmean=2.727%\tmedian=2.582%\t(1.707% - 4.466%)\n",
      "Closed:\t\tmean=2.110%\tmedian=2.102%\t(1.652% - 2.763%)\n",
      "2-Samp t-Test:\tpval=0.043705278\n",
      "Mann-Whit Test:\tpval=0.028637110\n",
      "\n"
     ]
    }
   ],
   "source": [
    "# 2011 birth volume as a basic measure.\n",
    "basic_stats(s_pcsas, '# Births')\n",
    "print()\n",
    "\n",
    "# Count measure statistics.\n",
    "for m in ['# Births', '# Births (2001)', 'Population', 'Females 15-44', \\\n",
    "          'Household Income']:\n",
    "    count_stats(s_pcsas, m)\n",
    "    print()\n",
    "    \n",
    "# Proportion measure statistics.\n",
    "for m in ['Black Females 15-44', 'White Females 15-44', 'Other Females 15-44']:\n",
    "    proportion_stats(s_pcsas, m, 'Females 15-44')\n",
    "    print()"
   ]
  },
  {
   "cell_type": "markdown",
   "id": "dc66d3e6-7aa2-4747-bd78-48f4711594b2",
   "metadata": {},
   "source": [
    "An odds ratio for Black and white populations by PCSA is investigated against LDU closure status. For each $(r, s) \\in \\{\\text{Black}, \\text{White}\\} \\times \\{\\text{Open}, \\text{Closed}\\}$, we compute $\\sum_{p \\in P^{s}}r\\text{fem}_{\\text{2011}}(p)$."
   ]
  },
  {
   "cell_type": "code",
   "execution_count": 15,
   "id": "eaddc2d6-501c-46d9-90eb-6ec6ba2391fe",
   "metadata": {},
   "outputs": [
    {
     "name": "stdout",
     "output_type": "stream",
     "text": [
      "Black Females 15-44, Closed: 8,494.0\n",
      "White Females 15-44, Closed: 17,795.0\n",
      "Black Females 15-44, Open: 45,326.0\n",
      "White Females 15-44, Open: 101,442.0\n"
     ]
    }
   ],
   "source": [
    "two_by_two(s_pcsas, 'Black Females 15-44', 'White Females 15-44')"
   ]
  },
  {
   "cell_type": "markdown",
   "id": "36dcd31f-6939-46c9-b74d-5d58a98a64dc",
   "metadata": {},
   "source": [
    "Using the [OpenEpi](https://openepi.com/TwobyTwo/TwobyTwo.htm) calculator, we obtain an odds ratio of $1.068 \\in [1.039, 1.099]$."
   ]
  },
  {
   "cell_type": "markdown",
   "id": "ee3f74f5-80bd-4f66-b911-5fa5ce74fb7d",
   "metadata": {},
   "source": [
    "### Table 2: Patient Demographics and Insurance by LDU Closure Status (2011)\n",
    "\n",
    "#### Patient Race\n",
    "\n",
    "Each LDU's Black patients (\"% Black Patients\"), white patients (\"% White Patients\"), and other race patients (\"% Other/Unknown Race\") are investigated as Proportions.\n",
    "\n",
    "As an example, \"% Black Patients\" operates on the set $\\left\\{\\frac{|\\{i \\in \\ell ~:~ \\text{race}(i) = \\text{black}\\}|}{|\\ell|} : \\ell \\in L\\right\\}$.\n"
   ]
  },
  {
   "cell_type": "code",
   "execution_count": 16,
   "id": "251adea6-e6fb-4783-aab4-e28d8e62bb24",
   "metadata": {},
   "outputs": [
    {
     "name": "stdout",
     "output_type": "stream",
     "text": [
      "% Black Patients\n",
      "----------------\n",
      "Total:\t\t4,101.000\n",
      "Open:\t\tmean=32.617%\tmedian=31.851%\t(0.392% - 66.667%)\n",
      "Closed:\t\tmean=40.528%\tmedian=41.918%\t(1.463% - 72.487%)\n",
      "2-Samp t-Test:\tpval=0.401078726\n",
      "Mann-Whit Test:\tpval=0.402128752\n",
      "\n",
      "% White Patients\n",
      "----------------\n",
      "Total:\t\t6,713.000\n",
      "Open:\t\tmean=54.591%\tmedian=56.038%\t(22.180% - 94.828%)\n",
      "Closed:\t\tmean=49.759%\tmedian=40.285%\t(25.397% - 95.122%)\n",
      "2-Samp t-Test:\tpval=0.613087723\n",
      "Mann-Whit Test:\tpval=0.493941308\n",
      "\n",
      "% Other/Unknown Race\n",
      "--------------------\n",
      "Total:\t\t1,478.000\n",
      "Open:\t\tmean=12.792%\tmedian=9.444%\t(3.072% - 45.113%)\n",
      "Closed:\t\tmean=9.713%\tmedian=3.844%\t(2.116% - 27.193%)\n",
      "2-Samp t-Test:\tpval=0.541145008\n",
      "Mann-Whit Test:\tpval=0.173998568\n",
      "\n"
     ]
    }
   ],
   "source": [
    "for m in ['Black Patients', 'White Patients', 'Other/Unknown Race']:\n",
    "    proportion_stats(s_ldus, m, '# Patients')\n",
    "    print()"
   ]
  },
  {
   "cell_type": "markdown",
   "id": "279fafcb-d914-4525-8bbc-5b9089582649",
   "metadata": {},
   "source": [
    "An odds ratio for Black and white patients with known payor statuses is investigated against LDU closure status. For each $(r, s) \\in \\{\\text{Black}, \\text{White}\\} \\times \\{\\text{Open}, \\text{Closed}\\}$, we compute $\\sum_{\\ell \\in L^{s}}|\\{i \\in \\ell : (\\text{race}(i) = r) \\wedge (\\text{payor}(i) \\neq \\text{Unknown})\\}|$."
   ]
  },
  {
   "cell_type": "code",
   "execution_count": 17,
   "id": "32dd0a2a-48c1-4912-a291-86e68e367b97",
   "metadata": {},
   "outputs": [
    {
     "name": "stdout",
     "output_type": "stream",
     "text": [
      "Black Known Payor Group, Closed: 399.0\n",
      "White Known Payor Group, Closed: 444.0\n",
      "Black Known Payor Group, Open: 3,214.0\n",
      "White Known Payor Group, Open: 5,212.0\n"
     ]
    }
   ],
   "source": [
    "# Create a temporary DataFrame combining known payor groups.\n",
    "df = s_ldus['Closed 2012-2016'].to_frame()\n",
    "df['Black Known Payor Group'] = s_ldus['Black Commercial/Employer-Based'] \\\n",
    "                                + s_ldus['Black Assistance/Self Pay']\n",
    "df['White Known Payor Group'] = s_ldus['White Commercial/Employer-Based'] \\\n",
    "                                + s_ldus['White Assistance/Self Pay']\n",
    "two_by_two(df, 'Black Known Payor Group', 'White Known Payor Group')"
   ]
  },
  {
   "cell_type": "markdown",
   "id": "3128a4c8-8cf7-4b28-8f02-3223862b879b",
   "metadata": {},
   "source": [
    "Using the [OpenEpi](https://openepi.com/TwobyTwo/TwobyTwo.htm) calculator, we obtain an odds ratio of $1.457 \\in [1.264, 1.680]$.\n",
    "\n",
    "To check if payor group is confounding, we further partition these black and white patients counts by payor groups \"Assistance/Self Pay\" and \"Commercial/Employer-Based\"."
   ]
  },
  {
   "cell_type": "code",
   "execution_count": 18,
   "id": "39aef9b3-a46d-452f-8002-2fb00698ccd8",
   "metadata": {
    "tags": []
   },
   "outputs": [
    {
     "name": "stdout",
     "output_type": "stream",
     "text": [
      "Black Assistance/Self Pay, Closed: 378.0\n",
      "White Assistance/Self Pay, Closed: 372.0\n",
      "Black Assistance/Self Pay, Open: 2,982.0\n",
      "White Assistance/Self Pay, Open: 3,876.0\n",
      "\n",
      "Black Commercial/Employer-Based, Closed: 21.0\n",
      "White Commercial/Employer-Based, Closed: 72.0\n",
      "Black Commercial/Employer-Based, Open: 232.0\n",
      "White Commercial/Employer-Based, Open: 1,336.0\n",
      "\n"
     ]
    }
   ],
   "source": [
    "for pgroup in ['Assistance/Self Pay', 'Commercial/Employer-Based']:\n",
    "    two_by_two(s_ldus, 'Black '+pgroup, 'White '+pgroup)\n",
    "    print()"
   ]
  },
  {
   "cell_type": "markdown",
   "id": "3631c8db-3f13-4565-a39a-1be46a2417ed",
   "metadata": {},
   "source": [
    "Using the [OpenEpi](https://openepi.com/TwobyTwo/TwobyTwo.htm) calculator on these strata, we obtain a Mantel-Haenszel adjusted odds ratio of $1.344 \\in [1.163, 1.553]$."
   ]
  },
  {
   "cell_type": "markdown",
   "id": "7a1648f7-03e9-4a44-891c-f09c5a0e5c2f",
   "metadata": {},
   "source": [
    "#### Patient Insurance\n",
    "\n",
    "Each LDU's breakdown of patients by payor type (\"% Commercial/Employer-Based Payors\", \"% Medicaid Payors\", \"% Self Pay Payors\", \"% Other Govt. Payors\", and \"% Other/Unknown Payors\") are investigated as Proportions.\n",
    "\n",
    "As an example, \"% Medicaid Payors\" operates on the set $\\left\\{\\frac{|\\{i \\in \\ell ~:~ \\text{payortype}(i) = \\text{Medicaid}\\}|}{|\\ell|} : \\ell \\in L\\right\\}$."
   ]
  },
  {
   "cell_type": "code",
   "execution_count": 19,
   "id": "8a9ae3c8-b9b8-484b-bd03-b9095da3d99e",
   "metadata": {},
   "outputs": [
    {
     "name": "stdout",
     "output_type": "stream",
     "text": [
      "% Commercial/Employer-Based Payors\n",
      "----------------------------------\n",
      "Total:\t\t1,751.000\n",
      "Open:\t\tmean=13.440%\tmedian=10.798%\t(0.196% - 30.508%)\n",
      "Closed:\t\tmean=8.526%\tmedian=5.264%\t(3.285% - 25.366%)\n",
      "2-Samp t-Test:\tpval=0.228103075\n",
      "Mann-Whit Test:\tpval=0.157773567\n",
      "\n",
      "% Medicaid Payors\n",
      "-----------------\n",
      "Total:\t\t7,390.000\n",
      "Open:\t\tmean=57.982%\tmedian=71.435%\t(5.501% - 91.892%)\n",
      "Closed:\t\tmean=65.941%\tmedian=62.939%\t(29.268% - 94.545%)\n",
      "2-Samp t-Test:\tpval=0.521441533\n",
      "Mann-Whit Test:\tpval=0.781194897\n",
      "\n",
      "% Self Pay Payors\n",
      "-----------------\n",
      "Total:\t\t921.000\n",
      "Open:\t\tmean=7.801%\tmedian=4.447%\t(0.000% - 39.850%)\n",
      "Closed:\t\tmean=8.601%\tmedian=4.343%\t(0.000% - 26.496%)\n",
      "2-Samp t-Test:\tpval=0.856445814\n",
      "Mann-Whit Test:\tpval=0.979852638\n",
      "\n",
      "% Other Govt. Payors\n",
      "--------------------\n",
      "Total:\t\t578.000\n",
      "Open:\t\tmean=7.985%\tmedian=0.343%\t(0.000% - 62.069%)\n",
      "Closed:\t\tmean=0.714%\tmedian=0.427%\t(0.000% - 2.555%)\n",
      "2-Samp t-Test:\tpval=0.347395235\n",
      "Mann-Whit Test:\tpval=0.781194897\n",
      "\n",
      "% Other/Unknown Payors\n",
      "----------------------\n",
      "Total:\t\t1,652.000\n",
      "Open:\t\tmean=12.792%\tmedian=1.375%\t(0.000% - 86.531%)\n",
      "Closed:\t\tmean=16.218%\tmedian=11.419%\t(0.000% - 43.415%)\n",
      "2-Samp t-Test:\tpval=0.767293341\n",
      "Mann-Whit Test:\tpval=0.526704560\n",
      "\n"
     ]
    }
   ],
   "source": [
    "for ptype in ['Commercial/Employer-Based', 'Medicaid', 'Self Pay', \\\n",
    "              'Other Govt.', 'Other/Unknown']:\n",
    "    proportion_stats(s_ldus, ptype+' Payors', '# Patients')\n",
    "    print()"
   ]
  },
  {
   "cell_type": "markdown",
   "id": "214435c1-4031-4bef-ae1c-f8b2d58f1f20",
   "metadata": {},
   "source": [
    "An odds ratio for Assistance/Self Pay and Commercial/Employer-Based patient payor groups is investigated against LDU closure status. For each $(r, s) \\in \\{\\text{Assistance/Self Pay}, \\text{Commercial/Employer-Based}\\} \\times \\{\\text{Open}, \\text{Closed}\\}$, we compute $\\sum_{\\ell \\in L^{s}}|\\{i \\in \\ell : \\text{payorgroup}(i) = r\\}|$."
   ]
  },
  {
   "cell_type": "code",
   "execution_count": 20,
   "id": "c7dd73c4-8694-481b-9cf6-50fcb15124ad",
   "metadata": {},
   "outputs": [
    {
     "name": "stdout",
     "output_type": "stream",
     "text": [
      "Assistance/Self Pay Payors, Closed: 827.0\n",
      "Commercial/Employer-Based Payors, Closed: 97.0\n",
      "Assistance/Self Pay Payors, Open: 8,062.0\n",
      "Commercial/Employer-Based Payors, Open: 1,654.0\n"
     ]
    }
   ],
   "source": [
    "two_by_two(s_ldus, 'Assistance/Self Pay Payors', 'Commercial/Employer-Based Payors')"
   ]
  },
  {
   "cell_type": "markdown",
   "id": "4f31caec-0ae1-4571-a107-a6b5b6d2840b",
   "metadata": {},
   "source": [
    "Using the [OpenEpi](https://openepi.com/TwobyTwo/TwobyTwo.htm) calculator, we obtain an odds ratio of $1.749 \\in [1.408, 2.173]$."
   ]
  },
  {
   "cell_type": "markdown",
   "id": "c5dafb9a-76e2-44f0-89c6-1ab835a9892c",
   "metadata": {},
   "source": [
    "### Table 3: Birth Volume and Location by LDU Closure Status (2011)\n",
    "\n",
    "The number of births by PCSA is investigated both as a Basic and Count measure."
   ]
  },
  {
   "cell_type": "code",
   "execution_count": 21,
   "id": "9131bb5c-69a4-472e-b086-3a7521850112",
   "metadata": {},
   "outputs": [
    {
     "name": "stdout",
     "output_type": "stream",
     "text": [
      "# Births\n",
      "--------\n",
      "Total:\t\t11,976.000\n",
      "Open:\t\t10,171.000\t(84.928%)\n",
      "Closed:\t\t1,805.000\t(15.072%)\n",
      "\n",
      "# Births\n",
      "--------\n",
      "Total:\t\t11,976.000\n",
      "Open:\t\tmean=423.792\tmedian=365.000\t(101.000 - 776.000)\n",
      "Closed:\t\tmean=300.833\tmedian=313.000\t(213.000 - 361.000)\n",
      "2-Samp t-Test:\tpval=0.206188375\n",
      "Mann-Whit Test:\tpval=0.493941308\n"
     ]
    }
   ],
   "source": [
    "basic_stats(s_pcsas, '# Births')\n",
    "print()\n",
    "count_stats(s_pcsas, '# Births')"
   ]
  },
  {
   "cell_type": "markdown",
   "id": "4fe428df-18b0-483a-a0cb-dd9cd1be8dd5",
   "metadata": {},
   "source": [
    "The number of LDUs that remained opened vs. closed are investigated as a Basic measure."
   ]
  },
  {
   "cell_type": "code",
   "execution_count": 22,
   "id": "dbc81101-387d-45b2-9487-aa592820accd",
   "metadata": {},
   "outputs": [
    {
     "name": "stdout",
     "output_type": "stream",
     "text": [
      "LDU\n",
      "---\n",
      "Total:\t\t30.000\n",
      "Open:\t\t24.000\t(80.000%)\n",
      "Closed:\t\t6.000\t(20.000%)\n"
     ]
    }
   ],
   "source": [
    "basic_stats(s_ldus, 'LDU', agg='count')"
   ]
  },
  {
   "cell_type": "markdown",
   "id": "f107ebf7-0175-4ed6-a556-1ae040b14d72",
   "metadata": {},
   "source": [
    "Each LDU's 2011 number of births (\"# Births\") are investigated as both a Basic and Count measure."
   ]
  },
  {
   "cell_type": "code",
   "execution_count": 23,
   "id": "a6614bcc-77cd-4de2-a373-35663ed87d6e",
   "metadata": {},
   "outputs": [
    {
     "name": "stdout",
     "output_type": "stream",
     "text": [
      "# Births\n",
      "--------\n",
      "Total:\t\t12,452.000\n",
      "Open:\t\t11,329.000\t(90.981%)\n",
      "Closed:\t\t1,123.000\t(9.019%)\n",
      "\n",
      "# Births\n",
      "--------\n",
      "Total:\t\t12,452.000\n",
      "Open:\t\tmean=472.042\tmedian=435.500\t(111.000 - 1,105.000)\n",
      "Closed:\t\tmean=187.167\tmedian=197.000\t(110.000 - 274.000)\n",
      "2-Samp t-Test:\tpval=0.017693216\n",
      "Mann-Whit Test:\tpval=0.002684519\n"
     ]
    }
   ],
   "source": [
    "basic_stats(s_ldus, '# Births')\n",
    "print()\n",
    "count_stats(s_ldus, '# Births')"
   ]
  },
  {
   "cell_type": "markdown",
   "id": "9f287e00-16be-4a63-b829-7ff485ee41c4",
   "metadata": {},
   "source": [
    "Each LDU's 2011 number of births at the nearest Georgia LDU (\"# Births at Closest GA LDU\"), distance to nearest Georgia LDU (\"Miles to Closest GA LDU\"), and distance to nearest urban area (\"Miles to Closest Urban Area\") are investigated as Counts."
   ]
  },
  {
   "cell_type": "code",
   "execution_count": 24,
   "id": "21c7b448-9fc7-4169-86fb-e03c116fece5",
   "metadata": {},
   "outputs": [
    {
     "name": "stdout",
     "output_type": "stream",
     "text": [
      "# Births at Closest GA LDU\n",
      "--------------------------\n",
      "Total:\t\t18,519.000\n",
      "Open:\t\tmean=482.458\tmedian=327.000\t(110.000 - 2,569.000)\n",
      "Closed:\t\tmean=1,156.667\tmedian=773.500\t(118.000 - 3,454.000)\n",
      "2-Samp t-Test:\tpval=0.040532177\n",
      "Mann-Whit Test:\tpval=0.064681066\n",
      "\n",
      "Miles to Closest GA LDU\n",
      "-----------------------\n",
      "Total:\t\t700.000\n",
      "Open:\t\tmean=22.875\tmedian=24.500\t(7.000 - 34.000)\n",
      "Closed:\t\tmean=25.167\tmedian=25.000\t(19.000 - 32.000)\n",
      "2-Samp t-Test:\tpval=0.489849630\n",
      "Mann-Whit Test:\tpval=0.595269252\n",
      "\n",
      "Miles to Closest Urban Area\n",
      "---------------------------\n",
      "Total:\t\t1,314.000\n",
      "Open:\t\tmean=43.917\tmedian=41.500\t(26.000 - 64.000)\n",
      "Closed:\t\tmean=43.333\tmedian=41.500\t(21.000 - 69.000)\n",
      "2-Samp t-Test:\tpval=0.929009866\n",
      "Mann-Whit Test:\tpval=0.742624732\n",
      "\n"
     ]
    }
   ],
   "source": [
    "for m in ['# Births at Closest GA LDU', 'Miles to Closest GA LDU', \\\n",
    "          'Miles to Closest Urban Area']:\n",
    "    count_stats(s_ldus, m)\n",
    "    print()"
   ]
  },
  {
   "cell_type": "markdown",
   "id": "2ceea24a-d232-4db8-bcfa-271bd6fb4653",
   "metadata": {},
   "source": [
    "Each LDU's 2011 numbers of births to county residents and non-residents are investigated as Proportions."
   ]
  },
  {
   "cell_type": "code",
   "execution_count": 25,
   "id": "e3a85f81-ead2-40f4-9b91-105992f52a0f",
   "metadata": {},
   "outputs": [
    {
     "name": "stdout",
     "output_type": "stream",
     "text": [
      "% County Res. Patients\n",
      "----------------------\n",
      "Total:\t\t6,710.000\n",
      "Open:\t\tmean=52.649%\tmedian=55.198%\t(6.518% - 89.723%)\n",
      "Closed:\t\tmean=67.667%\tmedian=66.140%\t(48.718% - 88.182%)\n",
      "2-Samp t-Test:\tpval=0.115824271\n",
      "Mann-Whit Test:\tpval=0.092526630\n",
      "\n",
      "% County Non-Res. Patients\n",
      "--------------------------\n",
      "Total:\t\t5,582.000\n",
      "Open:\t\tmean=47.351%\tmedian=44.802%\t(10.277% - 93.482%)\n",
      "Closed:\t\tmean=32.333%\tmedian=33.860%\t(11.818% - 51.282%)\n",
      "2-Samp t-Test:\tpval=0.115824271\n",
      "Mann-Whit Test:\tpval=0.092526630\n",
      "\n"
     ]
    }
   ],
   "source": [
    "for m in ['County Res. Patients', 'County Non-Res. Patients']:\n",
    "    proportion_stats(s_ldus, m, '# Patients')\n",
    "    print()"
   ]
  },
  {
   "cell_type": "markdown",
   "id": "a7dcb4a6-63f2-4ae3-8150-b019c9caf463",
   "metadata": {},
   "source": [
    "An odds ratio for PCSA resident patients vs. PCSA non-resident patients is investigated against LDU closure status."
   ]
  },
  {
   "cell_type": "code",
   "execution_count": 26,
   "id": "ffbea5a2-3d67-43bf-ac53-c98965a94a8c",
   "metadata": {},
   "outputs": [
    {
     "name": "stdout",
     "output_type": "stream",
     "text": [
      "PCSA Res. Patients, Closed: 753.0\n",
      "PCSA Non-Res. Patients, Closed: 370.0\n",
      "PCSA Res. Patients, Open: 6,511.0\n",
      "PCSA Non-Res. Patients, Open: 4,658.0\n"
     ]
    }
   ],
   "source": [
    "two_by_two(s_ldus, 'PCSA Res. Patients', 'PCSA Non-Res. Patients')"
   ]
  },
  {
   "cell_type": "markdown",
   "id": "c17270d4-a426-4885-a474-1f0bcc8aee75",
   "metadata": {},
   "source": [
    "Using the [OpenEpi](https://openepi.com/TwobyTwo/TwobyTwo.htm) calculator, we obtain an odds ratio of $1.456 \\in [1.278, 1.658]$."
   ]
  },
  {
   "cell_type": "markdown",
   "id": "b8fdf9e7-2cb8-47cf-9bef-d3520d3eae1c",
   "metadata": {},
   "source": [
    "### Table 4: Obstetric Providers by LDU Closure Status\n",
    "\n",
    "Each LDU's providers expressed as the number of OBs (\"# OBs\"), FPs (\"# FPs\"), CNMs (\"# CNMs\"), and OB eqivalents (\"OB Equiv.\") as well as the birth volume per provider (\"Births per Provider\") and average OB age (\"Ave. OB Age\") are investigated as Counts."
   ]
  },
  {
   "cell_type": "code",
   "execution_count": 27,
   "id": "f9f4deaf-ff28-490a-92d3-3e030bb84c24",
   "metadata": {},
   "outputs": [
    {
     "name": "stdout",
     "output_type": "stream",
     "text": [
      "# OBs\n",
      "-----\n",
      "Total:\t\t79.000\n",
      "Open:\t\tmean=2.917\tmedian=3.000\t(0.000 - 6.000)\n",
      "Closed:\t\tmean=1.500\tmedian=1.500\t(1.000 - 2.000)\n",
      "2-Samp t-Test:\tpval=0.051751156\n",
      "Mann-Whit Test:\tpval=0.043787630\n",
      "\n",
      "# FPs\n",
      "-----\n",
      "Total:\t\t11.000\n",
      "Open:\t\tmean=0.333\tmedian=0.000\t(0.000 - 4.000)\n",
      "Closed:\t\tmean=0.500\tmedian=0.000\t(0.000 - 2.000)\n",
      "2-Samp t-Test:\tpval=0.701146854\n",
      "Mann-Whit Test:\tpval=0.526704560\n",
      "\n",
      "# CNMs\n",
      "------\n",
      "Total:\t\t15.000\n",
      "Open:\t\tmean=0.542\tmedian=0.000\t(0.000 - 4.000)\n",
      "Closed:\t\tmean=0.333\tmedian=0.000\t(0.000 - 1.000)\n",
      "2-Samp t-Test:\tpval=0.634778662\n",
      "Mann-Whit Test:\tpval=0.939655593\n",
      "\n",
      "OB Equiv.\n",
      "---------\n",
      "Total:\t\t93.645\n",
      "Open:\t\tmean=3.417\tmedian=3.000\t(1.000 - 7.935)\n",
      "Closed:\t\tmean=1.941\tmedian=2.000\t(1.645 - 2.097)\n",
      "2-Samp t-Test:\tpval=0.058614515\n",
      "Mann-Whit Test:\tpval=0.043787630\n",
      "\n",
      "Births per Provider\n",
      "-------------------\n",
      "Total:\t\t3,974.626\n",
      "Open:\t\tmean=141.187\tmedian=133.638\t(55.500 - 233.000)\n",
      "Closed:\t\tmean=97.691\tmedian=108.250\t(55.000 - 143.966)\n",
      "2-Samp t-Test:\tpval=0.029776074\n",
      "Mann-Whit Test:\tpval=0.033120290\n",
      "\n",
      "Ave. OB Age\n",
      "-----------\n",
      "Total:\t\t1,252.800\n",
      "Open:\t\tmean=47.633\tmedian=46.000\t(40.000 - 59.500)\n",
      "Closed:\t\tmean=50.500\tmedian=48.000\t(45.000 - 60.000)\n",
      "2-Samp t-Test:\tpval=0.345902905\n",
      "Mann-Whit Test:\tpval=0.308300395\n",
      "\n"
     ]
    }
   ],
   "source": [
    "for m in ['# OBs', '# FPs', '# CNMs', 'OB Equiv.', 'Births per Provider', \\\n",
    "          'Ave. OB Age']:\n",
    "    count_stats(s_ldus, m)\n",
    "    print()"
   ]
  }
 ],
 "metadata": {
  "kernelspec": {
   "display_name": "Python 3 (ipykernel)",
   "language": "python",
   "name": "python3"
  },
  "language_info": {
   "codemirror_mode": {
    "name": "ipython",
    "version": 3
   },
   "file_extension": ".py",
   "mimetype": "text/x-python",
   "name": "python",
   "nbconvert_exporter": "python",
   "pygments_lexer": "ipython3",
   "version": "3.9.7"
  }
 },
 "nbformat": 4,
 "nbformat_minor": 5
}
