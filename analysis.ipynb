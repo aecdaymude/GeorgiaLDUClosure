{
 "cells": [
  {
   "cell_type": "markdown",
   "id": "4a5326fb-ed48-4211-8437-d4ffb8a3e9d0",
   "metadata": {},
   "source": [
    "# Georgia LDU Closure Analysis (2012-2016)"
   ]
  },
  {
   "cell_type": "code",
   "execution_count": null,
   "id": "4399c65e-31bc-4487-a681-044c703fce16",
   "metadata": {},
   "outputs": [],
   "source": [
    "from helper import *"
   ]
  },
  {
   "cell_type": "markdown",
   "id": "67fa9898-1ad9-43f5-9ec3-b34f2220c27e",
   "metadata": {},
   "source": [
    "## Datasets"
   ]
  },
  {
   "cell_type": "markdown",
   "id": "03bc42e4-e223-45fb-a0aa-c9ced43a6309",
   "metadata": {},
   "source": [
    "### Patients\n",
    "\n",
    "- Data from the *Emory MCH Linked Vital Records Data Repository* (private data source) is used to identify per-patient birth data for births in 2011 by birthing LDU, payor status, race, ethnicity, and county of residence."
   ]
  },
  {
   "cell_type": "code",
   "execution_count": null,
   "id": "c58e5b41-3961-42ed-bb80-1d845a60a59a",
   "metadata": {},
   "outputs": [],
   "source": [
    "# Load patient data.\n",
    "patients = pd.read_csv('data/patients.csv')\n",
    "\n",
    "# Drop irrelevant columns.\n",
    "del patients['Ethnicity']\n",
    "\n",
    "display(patients)"
   ]
  },
  {
   "cell_type": "markdown",
   "id": "170a1758-d103-43d8-8e94-3553ca1dbd0e",
   "metadata": {},
   "source": [
    "### Labor & Delivery Units\n",
    "\n",
    "- Data from *Georgia Maternal and Infant Health Research Group (GMIHRG)* (private data source) is used to identify the LDUs of interest and their birth counts in 2008, 2011, and 2012; numbers of OBs, FPs, and CNMs in 2011 and 2016; and average ages of OBs in 2011 and 2016.\n",
    "- Data from the *Emory MCH Linked Vital Records Data Repository* (private data source) is used to obtain 2001 and 2011 number of births per-LDU to residents and non-residents of the county the LDU is in. It is also the source of LDU names that we consider standard.\n",
    "- Data from the [*U.S. Census Bureau*]() is used to identify urban areas in 2010.\n",
    "- Data from [*Google Maps*](https://www.google.com/maps/d/u/0/edit?mid=1_xMZrJgPbcInCcq8CgdmwuncWMWSOoJj&usp=sharing) is used to identify, for each LDU, the closest (other) LDU (within Georgia), the number of driving miles to the closest LDU, the closest urban area (in any state), and the number of driving miles to the closest urban area in 2011.\n",
    "\n",
    "This analysis primarily focuses on 2011, so all columns irrelevant to the quantitative analysis are dropped."
   ]
  },
  {
   "cell_type": "code",
   "execution_count": null,
   "id": "138693c3-6031-4dc5-9e60-fe62dec7fcb9",
   "metadata": {},
   "outputs": [],
   "source": [
    "# Load LDU data.\n",
    "ldus = pd.read_csv('data/ldus.csv')\n",
    "\n",
    "# Drop irrelevant columns.\n",
    "for col in ['Lat/Long', '# Births (2008)', '# Births (2012)', '# OBs (2016)', \\\n",
    "            'Ave. OB Age (2016)', '# FPs (2016)', '# CNMs (2016)', \\\n",
    "            '# County Res. Births (2001)', '# County Non-Res. Births (2001)', \\\n",
    "            '# County Res. Births (2011)', '# County Non-Res. Births (2011)']:\n",
    "    del ldus[col]\n",
    "\n",
    "# Drop '(2011)' from column names since we now only have 2011 data.\n",
    "ldus.rename(columns={x: x.replace(' (2011)', '') for x in list(ldus.head())}, \\\n",
    "            inplace=True)\n",
    "\n",
    "display(ldus)"
   ]
  },
  {
   "cell_type": "markdown",
   "id": "c2fb5c3b-2506-456c-bad8-e8b9d5e3a87f",
   "metadata": {},
   "source": [
    "### Regional Data (Counties and PCSAs)\n",
    "\n",
    "- Data from [*OASIS*](https://oasis.state.ga.us) is used to obtain birth and population counts in 2001 and 2011 by county.\n",
    "- Data from the [*Office of Management and Budget (OMB)*](https://obamawhitehouse.archives.gov/sites/default/files/omb/bulletins/2013/b-13-01.pdf) is used to identify counties contained in the Atlanta-Sandy Springs-Roswell Metropolitan Statistical Area (MSA) based on the 2010 Census (see page 23).\n",
    "- Data from the [*U.S. Census Bureau*](https://data.census.gov/cedsci/table?q=&t=Income%20and%20Poverty&g=0400000US13%240500000&y=2011&tid=ACSST5Y2011.S1903) is used to obtain 2011 median household income by county.\n",
    "- Data from the [*Georgia Board of Health Care Workforce*](https://healthcareworkforce.georgia.gov/basic-physician-needs-reports-pcsa-primary-care-service-area) in the year 2008 is used to map counties to PCSAs."
   ]
  },
  {
   "cell_type": "code",
   "execution_count": null,
   "id": "4a9d5837-c7e4-4f0f-b961-bf4a0f3928e7",
   "metadata": {},
   "outputs": [],
   "source": [
    "# Load county data.\n",
    "counties = pd.read_csv('data/counties.csv')\n",
    "\n",
    "# Drop '(2011)' from column names since they are default.\n",
    "counties.rename(columns={x: x.replace(' (2011)', '') for x in list(counties.head())}, \\\n",
    "                inplace=True)\n",
    "\n",
    "display(counties)"
   ]
  },
  {
   "cell_type": "markdown",
   "id": "294184c6-9387-4436-88c4-d947633c5183",
   "metadata": {
    "tags": []
   },
   "source": [
    "## Determining the Sample\n",
    "\n",
    "### Inclusion Criteria for Rural PCSAs\n",
    "\n",
    "PCSAs included in the sample are *rural*, meaning that in 2011:\n",
    "\n",
    "1. They did not contain any counties that were within the Atlanta MSA.\n",
    "2. They did not contain any counties with population at least 50,000.\n",
    "3. They contained exactly one LDU."
   ]
  },
  {
   "cell_type": "code",
   "execution_count": null,
   "id": "53699888-3a84-4256-8334-9cf267cb5e53",
   "metadata": {},
   "outputs": [],
   "source": [
    "# Construct a DataFrame of 96 PCSAs.\n",
    "pcsas = pd.DataFrame({'PCSA' : [x+1 for x in range(96)]})\n",
    "\n",
    "# Identify PCSAs that have no counties in the Atlanta MSA.\n",
    "df = (counties.groupby('PCSA')['In MSA (2010)'].sum() == 0).to_frame('Inc. MSA')\n",
    "df1 = pcsas.join(df, on='PCSA')\n",
    "\n",
    "# Identify PCSAs whose counties all have population strictly less than 50K.\n",
    "df = (counties.groupby('PCSA')['Population'].max() < 50000).to_frame('Inc. Pop')\n",
    "df2 = pcsas.join(df, on='PCSA')\n",
    "\n",
    "# Identify PCSAs containing exactly one LDU.\n",
    "df = ldus.groupby('County').size().to_frame('# LDUs')\n",
    "df = counties.join(df, on='County')\n",
    "df = (df.groupby('PCSA')['# LDUs'].sum() == 1).to_frame('Inc. 1 LDU')\n",
    "df3 = pcsas.join(df, on='PCSA')\n",
    "\n",
    "# Determine which PCSAs are in sample.\n",
    "pcsas['In Sample'] = df1['Inc. MSA'] & df2['Inc. Pop'] & df3['Inc. 1 LDU']\n",
    "del df1, df2, df3\n",
    "\n",
    "display(pcsas)"
   ]
  },
  {
   "cell_type": "markdown",
   "id": "65654c1a-8d67-4fe3-b094-e98610d5863e",
   "metadata": {},
   "source": [
    "### Narrowing Patients, LDUs, and Counties to the Sample\n",
    "\n",
    "With the 30 PCSAs in sample identified, the three other datasets can be winnowed down. All calculations from here on out can safely assume, due to Inclusion Criteria 3, that there is a 1:1 correspondence between LDUs and PCSAs."
   ]
  },
  {
   "cell_type": "code",
   "execution_count": null,
   "id": "f21ec31e-be9f-4a20-9884-d85e9bc2d020",
   "metadata": {},
   "outputs": [],
   "source": [
    "# Collect the counties that are in sample.\n",
    "df1 = counties.join(pcsas.set_index('PCSA'), on='PCSA')\n",
    "s_counties = df1.drop(df1[df1['In Sample'].map(lambda x: not x)].index)\n",
    "del s_counties['In Sample']\n",
    "\n",
    "# Collect the LDUs that are in sample.\n",
    "df2 = ldus.join(df1[['County', 'In Sample']].set_index('County'), on='County')\n",
    "s_ldus = df2.drop(df2[df2['In Sample'].map(lambda x: not x)].index)\n",
    "del s_ldus['In Sample']\n",
    "\n",
    "# Collect the patients that are in sample.\n",
    "df3 = patients.join(df2[['LDU', 'In Sample']].set_index('LDU'), on='LDU')\n",
    "s_patients = df3.drop(df3[df3['In Sample'].map(lambda x: not x)].index)\n",
    "del s_patients['In Sample']\n",
    "\n",
    "# Finally, collect the PCSAs that are in sample.\n",
    "s_pcsas = pcsas.drop(pcsas[pcsas['In Sample'].map(lambda x: not x)].index)\n",
    "del s_pcsas['In Sample']\n",
    "\n",
    "del df1, df2, df3"
   ]
  },
  {
   "cell_type": "markdown",
   "id": "ff65392d-9c6d-4985-bc1f-11994a445841",
   "metadata": {
    "tags": []
   },
   "source": [
    "## Derived Columns\n",
    "\n",
    "Based on the raw data above, we derive a series of new columns at the patient, LDU, and PCSA levels."
   ]
  },
  {
   "cell_type": "markdown",
   "id": "259a1d40-9435-4ec9-a8cd-882e3021e9f6",
   "metadata": {},
   "source": [
    "### Patient Payor Types/Groups and Residence\n",
    "\n",
    "We aggregate different payor statuses into types and groups according to the dictionaries below. We also identify which patients gave birth to an LDU within their county and PCSA of residence."
   ]
  },
  {
   "cell_type": "code",
   "execution_count": null,
   "id": "8508255e-04fd-4865-a33b-18b7fefe82f9",
   "metadata": {},
   "outputs": [],
   "source": [
    "# Assign patients their payor types.\n",
    "payortypes = {'Unknown': 'Other/Unknown',\n",
    "              'Champus': 'Commercial/Employer-Based',\n",
    "              'Medicaid': 'Medicaid',\n",
    "              'Commercial Insurance': 'Commercial/Employer-Based',\n",
    "              'Other Government Assistance': 'Other Govt.',\n",
    "              'Other': 'Other/Unknown',\n",
    "              'Self Pay': 'Self Pay'}\n",
    "s_patients['Payor Type'] = s_patients['Payor'].map(lambda x: payortypes[x])\n",
    "\n",
    "# Assign patients their payor groups.\n",
    "payorgroups = {'Commercial/Employer-Based': 'Commercial/Employer-Based',\n",
    "               'Medicaid': 'Assistance/Self Pay',\n",
    "               'Other Govt.': 'Assistance/Self Pay',\n",
    "               'Self Pay': 'Assistance/Self Pay',\n",
    "               'Other/Unknown': 'Other/Unknown'}\n",
    "s_patients['Payor Group'] = s_patients['Payor Type'].map(lambda x: payorgroups[x])\n",
    "\n",
    "# Use the counties of each LDU to identify whether patients gave birth in their\n",
    "# county of residence.\n",
    "df1 = s_patients.join(ldus[['LDU', 'County']].set_index('LDU'), on='LDU')\n",
    "s_patients['In Res. County'] = s_patients['Res. County'] == df1['County']\n",
    "\n",
    "# Use the counties of each LDU and the mappings of counties to PCSAs to identify\n",
    "# whether patients gave birth in their PCSA of residence.\n",
    "df2 = s_patients.join(counties[['County', 'PCSA']].set_index('County'), \\\n",
    "                      on='Res. County')\n",
    "df3 = df1.join(counties[['County', 'PCSA']].set_index('County'), on='County')\n",
    "s_patients['In Res. PCSA'] = df2['PCSA'] == df3['PCSA']\n",
    "\n",
    "# Remove temporary DataFrames and show patients data.\n",
    "del df1, df2, df3\n",
    "display(s_patients)"
   ]
  },
  {
   "cell_type": "markdown",
   "id": "68cc4d20-103d-4da1-94da-b904320490de",
   "metadata": {},
   "source": [
    "### Patient Demographics, Payor Types/Groups, and Resident Births by LDU\n",
    "\n",
    "Using the 2011 patient-level data in the above table, we aggregate the following measures by LDU:\n",
    "- Proportion (%) of patients by race (Black, white, and other)\n",
    "- Proportion (%) of patients by payor type (commercial/employer-based, Medicaid, self pay, other government, and other/unknown)\n",
    "- Number of patients by payor group (commercial/employer-based and assistance/self pay)\n",
    "- Number of patients in each pairwise intersection of Black vs. white and commercial/employer-based vs. assistance/self pay\n",
    "- Number and proportion (%) of births to residents and non-residents of the LDU's county and PCSA"
   ]
  },
  {
   "cell_type": "code",
   "execution_count": null,
   "id": "0d3c1f92-e721-4ffd-8eae-11b14d5e5a20",
   "metadata": {},
   "outputs": [],
   "source": [
    "# Count total number of patients per LDU.\n",
    "df1 = s_patients.groupby('LDU').size().to_frame('# Patients')\n",
    "s_ldus = s_ldus.join(df1, on='LDU')\n",
    "\n",
    "# Calculate %s of Black, white, and other patients per LDU.\n",
    "df1 = s_patients.groupby(['LDU', 'Race']).size().to_frame('#').reset_index()\n",
    "for race in ['Black or African-American', 'White']:\n",
    "    df2 = df1[df1['Race'] == race]\n",
    "    df2 = s_ldus.join(df2[['LDU', '#']].set_index('LDU'), on='LDU')\n",
    "    s_ldus['% '+race.split()[0]+' Patients'] = 100*df2['#']/s_ldus['# Patients']\n",
    "s_ldus['% Other/Unknown Race'] = 100 - s_ldus['% Black Patients'] \\\n",
    "                                 - s_ldus['% White Patients']\n",
    "\n",
    "# Calculate %s of patients per payor type per LDU.\n",
    "df1 = s_patients.groupby(['LDU', 'Payor Type']).size().to_frame('#').reset_index()\n",
    "for ptype in ['Commercial/Employer-Based', 'Medicaid', 'Self Pay', \\\n",
    "              'Other Govt.', 'Other/Unknown']:\n",
    "    df2 = df1[df1['Payor Type'] == ptype]\n",
    "    df2 = s_ldus.join(df2[['LDU', '#']].set_index('LDU'), on='LDU')\n",
    "    s_ldus['% '+ptype+' Payors'] = 100*df2['#'].fillna(0) / s_ldus['# Patients']\n",
    "\n",
    "# Count patients per payor group per LDU.\n",
    "df1 = s_patients.groupby(['LDU', 'Payor Group']).size().to_frame('#').reset_index()\n",
    "for pgroup in ['Commercial/Employer-Based', 'Assistance/Self Pay']:\n",
    "    df2 = df1[df1['Payor Group'] == pgroup]\n",
    "    df2 = s_ldus.join(df2[['LDU', '#']].set_index('LDU'), on='LDU')\n",
    "    s_ldus['# ' + pgroup + ' Payors'] = df2['#'].fillna(0)\n",
    "    \n",
    "# Count patients by intersection of race and payor groups.\n",
    "df1 = s_patients.groupby(['LDU', 'Race', 'Payor Group']).size()\\\n",
    "                .to_frame('#').reset_index()\n",
    "for race, pgroup in itertools.product(['Black or African-American', 'White'], \\\n",
    "                                      ['Commercial/Employer-Based', 'Assistance/Self Pay']):\n",
    "    df2 = df1[(df1['Race'] == race) & (df1['Payor Group'] == pgroup)]\n",
    "    df2 = s_ldus.join(df2[['LDU', '#']].set_index('LDU'), on='LDU')\n",
    "    s_ldus['# ' + race.split()[0] + ' ' + pgroup] = df2['#'].fillna(0)\n",
    "\n",
    "# Count numbers and calculate %s of births to county and PCSA residents.\n",
    "for area in ['County', 'PCSA']:\n",
    "    res_str = area + ' Res. Patients'\n",
    "    nonres_str = area + ' Non-Res. Patients'\n",
    "    df1 = s_patients.groupby(['LDU', 'In Res. ' + area]).size()\\\n",
    "                    .to_frame('# '+res_str).reset_index()\n",
    "    df2 = df1[df1['In Res. ' + area]]\n",
    "    s_ldus = s_ldus.join(df2[['LDU', '# '+res_str]].set_index('LDU'), on='LDU')\n",
    "    s_ldus['% '+res_str] = 100 * s_ldus['# '+res_str] / s_ldus['# Patients']\n",
    "    s_ldus['# '+nonres_str] = s_ldus['# Patients'] - s_ldus['# '+res_str]\n",
    "    s_ldus['% '+nonres_str] = 100 - s_ldus['% '+res_str]\n",
    "\n",
    "# Remove temporary DataFrames and show LDU data.\n",
    "del df1, df2\n",
    "display(s_ldus)"
   ]
  },
  {
   "cell_type": "markdown",
   "id": "0a599b09-c9c7-477f-a999-1b27ad0dfbb5",
   "metadata": {},
   "source": [
    "### Provider Count and Load by LDU\n",
    "\n",
    "We count providers by the number of OB equivalents per LDU in 2011 and use it to calculate the number of births per provider. An OB equivalent is calculated as:\n",
    "$$\n",
    "(\\#OBs) + \\frac{1}{1.55} \\cdot (\\#CNMs) + \\frac{0.7}{1.55} \\cdot (\\#FPs)\n",
    "$$\n",
    "\n",
    "We also identify the birth volume of the closest LDU."
   ]
  },
  {
   "cell_type": "code",
   "execution_count": null,
   "id": "8c0aaf9c-46c8-4887-bcf1-4d4dbd66a24c",
   "metadata": {},
   "outputs": [],
   "source": [
    "# Calculate OB equivalents and births per provider.\n",
    "s_ldus['OB Equiv.'] = s_ldus['# OBs'] + s_ldus['# CNMs'] / 1.55 \\\n",
    "                      + (0.7/1.55) * s_ldus['# FPs']\n",
    "s_ldus['Births per Provider'] = s_ldus['# Births'] / s_ldus['OB Equiv.']\n",
    "\n",
    "# Get the 2011 birth volume at the closest LDU.\n",
    "s_ldus = s_ldus.join(ldus[['LDU', '# Births']].set_index('LDU'), \\\n",
    "                     on='Closest GA LDU', rsuffix=' at Closest GA LDU')\n",
    "\n",
    "display(s_ldus)"
   ]
  },
  {
   "cell_type": "markdown",
   "id": "585cd00d-ef16-464b-839c-6e81c231d0cc",
   "metadata": {},
   "source": [
    "### County Birth Volume and Population Demographics by PCSA\n",
    "\n",
    "We additionally calculate, per-PCSA, the aggregate number of births (2001 and 2011), population (2001 and 2011), female population (2011), % Black female population (2011), % white female population (2011), % other female population (2011), and household income (2011). Median household income is available on a per-county basis; to calculate a PCSA's household income, we take a weighted average of its counties' median household incomes weighted by each county's proportion of the PCSA population. Mathematically, for a PCSA $p$ containing counties $c_1, \\ldots, c_k$ we have:\n",
    "$$\n",
    "income(p) = \\sum_{i=1}^k \\left(\\frac{population(c_i)}{population(p)}\\right) \\cdot income(c_i)\n",
    "$$"
   ]
  },
  {
   "cell_type": "code",
   "execution_count": null,
   "id": "bfa3d8b5-20b0-4cac-8b40-467334f069f7",
   "metadata": {},
   "outputs": [],
   "source": [
    "# Calculate the number of births per-PCSA in 2001 and 2011, the total population\n",
    "# per-PCSA in 2001 and 2011, and the female populations per-PCSA in 2011.\n",
    "for m in ['# Births (2001)', '# Births', 'Population (2001)', 'Population', \\\n",
    "          'Females 15-44']:\n",
    "    s_pcsas = s_pcsas.join(counties.groupby('PCSA')[m].sum().to_frame(m), \\\n",
    "                           on='PCSA')\n",
    "    \n",
    "# Calculate the %s of Black, white, and other race female populations by PCSA.\n",
    "for m in ['Black Females 15-44', 'White Females 15-44']:\n",
    "    df = counties.groupby('PCSA')[m].sum().to_frame('#')\n",
    "    df = s_pcsas.join(df, on='PCSA')\n",
    "    s_pcsas['% ' + m] = 100 * df['#'] / s_pcsas['Females 15-44']\n",
    "    \n",
    "s_pcsas['% Other Females 15-44'] = 100 - s_pcsas['% Black Females 15-44'] \\\n",
    "                                   - s_pcsas['% White Females 15-44']\n",
    "    \n",
    "# Calculate the median household income per-PCSA using population-weighted\n",
    "# proportions by county.\n",
    "df = counties.groupby('PCSA')\\\n",
    "             .apply(lambda x: (x['Population'] * x['Median Household Income']).sum())\\\n",
    "             .to_frame('incprod')\n",
    "df = s_pcsas.join(df, on='PCSA')\n",
    "s_pcsas['Household Income'] = df['incprod'] / df['Population']"
   ]
  },
  {
   "cell_type": "markdown",
   "id": "1d97c7af-bc3d-4fd5-bb3e-31d9785eb074",
   "metadata": {},
   "source": [
    "Finally, we identify which PCSAs had LDUs that closed (recall the assumption of 1:1 LDU:PCSA correspondence by Inclusion Criterium 3)."
   ]
  },
  {
   "cell_type": "code",
   "execution_count": null,
   "id": "a4f1a9f0-9699-49df-a7f1-79183d835fe8",
   "metadata": {},
   "outputs": [],
   "source": [
    "close_str = 'Closed 2012-2016'\n",
    "df = s_ldus.groupby('County')[close_str].sum().to_frame(close_str)\n",
    "df = s_counties[['County', 'PCSA']].join(df, on='County').fillna(0)\n",
    "df = df.groupby('PCSA')[close_str].sum().to_frame(close_str)\n",
    "s_pcsas = s_pcsas.join(df, on='PCSA')\n",
    "\n",
    "display(s_pcsas)"
   ]
  },
  {
   "cell_type": "markdown",
   "id": "fa1f51dc-5e51-4669-a494-b40db82b66c4",
   "metadata": {},
   "source": [
    "## Analysis\n",
    "\n",
    "There are four classes of measures $m$ that we report statistics on.\n",
    "\n",
    "1. *Counts* (e.g., the number of births in a given year, household incomes, or populations), for which we report the total $\\sum_{p \\in P} m(p)$ and, for each subset of $P^{open}, P^{closed} \\subseteq P$, the:\n",
    "    - Mean: $mean(\\{m(p) : p \\in P^{open/closed}\\})$\n",
    "    - Median: $median(\\{m(p) : p \\in P^{open/closed}\\})$\n",
    "    - Min: $min(\\{m(p) : p \\in P^{open/closed}\\})$\n",
    "    - Max: $max(\\{m(p) : p \\in P^{open/closed}\\})$\n",
    "    - p-value of an [independent 2-sample t-test](https://docs.scipy.org/doc/scipy/reference/generated/scipy.stats.ttest_ind.html#scipy.stats.ttest_ind) on $\\{m(p) : p \\in P^{open}\\}$ vs. $\\{m(p) : p \\in P^{closed}\\}$\n",
    "    - p-value of a [Mann-Whitney U rank test](https://docs.scipy.org/doc/scipy/reference/generated/scipy.stats.mannwhitneyu.html#scipy.stats.mannwhitneyu) on $\\{m(p) : p \\in P^{open}\\}$ vs. $\\{m(p) : p \\in P^{closed}\\}$\n",
    "2. *Proportions* (e.g., the percentage of the female population in a given PCSA that is Black), for which we report the same statistics as for Counts (but the total remains the raw total, not the sum of the proportions).\n",
    "3. *Odds Ratios* (e.g., the odds of being a patient with Commercial/Employer-Based insurance in a PCSA with a closed LDU compared to one with Assistance/Self Pay), for which we perform a [Fisher exact test](https://docs.scipy.org/doc/scipy/reference/generated/scipy.stats.fisher_exact.html#scipy.stats.fisher_exact). The exact details depend on the test. In some scenarios where confounding variables are investigated, [Cochran-Mantel-Haenszel ratios](https://openepi.com/TwobyTwo/TwobyTwo.htm) are calculated for the stratified data.\n",
    "4. *Basics* (i.e., a simple count or percentage without any major statistics), for which we report the measure aggregated by open/closed LDUs/PCSAs and the percentage of the whole in each category."
   ]
  },
  {
   "cell_type": "markdown",
   "id": "cb020d62-5173-4f7b-bedf-4ae9cd0af3ae",
   "metadata": {},
   "source": [
    "### Table 1: PCSA Population Demographics by LDU Closure Status (2011)\n",
    "\n",
    "Each PCSA's total 2001 and 2011 population (\"Population (2001)\" and \"Population\"), 2011 female population (\"Females 15-44\"), and 2011 household income (\"Household Income\") are investigated as Counts.\n",
    "\n",
    "Each PCSA's 2011 Black female population (\"% Black Females 15-44\"), white female population (\"% White Females 15-44\"), and other race female population (\"% Other Females 15-44\") are investigated as Proportions.\n",
    "\n",
    "As an example, \"% Black Females 15-44\" operates on the set $\\left\\{\\frac{\\text{blkfem}_{2011}(p)}{\\text{fem}_{2011}(p)} : p \\in P\\right\\}$."
   ]
  },
  {
   "cell_type": "code",
   "execution_count": null,
   "id": "1b697dd5-d57d-4fa5-8142-c638ad7183ba",
   "metadata": {},
   "outputs": [],
   "source": [
    "for m in ['Population (2001)', 'Population', 'Females 15-44', \\\n",
    "          '% Black Females 15-44', '% White Females 15-44', \\\n",
    "          '% Other Females 15-44', 'Household Income']:\n",
    "    statsbyclosure(s_pcsas, m)\n",
    "    print()"
   ]
  },
  {
   "cell_type": "markdown",
   "id": "ee3f74f5-80bd-4f66-b911-5fa5ce74fb7d",
   "metadata": {},
   "source": [
    "### Table 2: LDU Patient Demographics and Insurance by LDU Closure Status (2011)\n",
    "\n",
    "#### Patient Race\n",
    "\n",
    "Each LDU's Black patients (\"% Black Patients\"), white patients (\"% White Patients\"), and other race patients (\"% Other/Unknown Race\") are investigated as Proportions.\n",
    "\n",
    "As an example, \"% Black Patients\" operates on the set $\\left\\{\\frac{|\\{i \\in \\ell ~:~ \\text{race}(i) = \\text{black}\\}|}{|\\ell|} : \\ell \\in L\\right\\}$.\n"
   ]
  },
  {
   "cell_type": "code",
   "execution_count": null,
   "id": "251adea6-e6fb-4783-aab4-e28d8e62bb24",
   "metadata": {},
   "outputs": [],
   "source": [
    "for m in ['% Black Patients', '% White Patients', '% Other/Unknown Race']:\n",
    "    statsbyclosure(s_ldus, m)\n",
    "    print()"
   ]
  },
  {
   "cell_type": "markdown",
   "id": "279fafcb-d914-4525-8bbc-5b9089582649",
   "metadata": {},
   "source": [
    "An odds ratio for Black and white patients with known payor statuses is investigated against LDU closure status. For each $(r, s) \\in \\{\\text{Black}, \\text{White}\\} \\times \\{\\text{Open}, \\text{Closed}\\}$, we compute $\\sum_{\\ell \\in L^{s}}|\\{i \\in \\ell : (\\text{race}(i) = r) \\wedge (\\text{payor}(i) \\neq \\text{Unknown})\\}|$."
   ]
  },
  {
   "cell_type": "code",
   "execution_count": null,
   "id": "32dd0a2a-48c1-4912-a291-86e68e367b97",
   "metadata": {},
   "outputs": [],
   "source": [
    "# TODO"
   ]
  },
  {
   "cell_type": "markdown",
   "id": "3631c8db-3f13-4565-a39a-1be46a2417ed",
   "metadata": {},
   "source": [
    "To check if payor group is confounding, we further partition these black and white patients counts by payor groups \"Assistance/Self Pay\" and \"Commercial/Employer-Based\"."
   ]
  },
  {
   "cell_type": "code",
   "execution_count": null,
   "id": "39aef9b3-a46d-452f-8002-2fb00698ccd8",
   "metadata": {},
   "outputs": [],
   "source": [
    "# TODO"
   ]
  },
  {
   "cell_type": "markdown",
   "id": "7a1648f7-03e9-4a44-891c-f09c5a0e5c2f",
   "metadata": {},
   "source": [
    "#### Patient Insurance\n",
    "\n",
    "Each LDU's breakdown of patients by payor type (\"% Commercial/Employer-Based Payors\", \"% Medicaid Payors\", \"% Self Pay Payors\", \"% Other Govt. Payors\", and \"% Other/Unknown Payors\") are investigated as Proportions.\n",
    "\n",
    "As an example, \"% Medicaid Payors\" operates on the set $\\left\\{\\frac{|\\{i \\in \\ell ~:~ \\text{payortype}(i) = \\text{Medicaid}\\}|}{|\\ell|} : \\ell \\in L\\right\\}$."
   ]
  },
  {
   "cell_type": "code",
   "execution_count": null,
   "id": "8a9ae3c8-b9b8-484b-bd03-b9095da3d99e",
   "metadata": {},
   "outputs": [],
   "source": [
    "for ptype in ['Commercial/Employer-Based', 'Medicaid', 'Self Pay', \\\n",
    "              'Other Govt.', 'Other/Unknown']:\n",
    "    m = '% ' + ptype + ' Payors'\n",
    "    statsbyclosure(s_ldus, m)\n",
    "    print()"
   ]
  },
  {
   "cell_type": "markdown",
   "id": "214435c1-4031-4bef-ae1c-f8b2d58f1f20",
   "metadata": {},
   "source": [
    "An odds ratio for Assistance/Self Pay and Commercial/Employer-Based patient payor groups is investigated against LDU closure status. For each $(r, s) \\in \\{\\text{Assistance/Self Pay}, \\text{Commercial/Employer-Based}\\} \\times \\{\\text{Open}, \\text{Closed}\\}$, we compute $\\sum_{\\ell \\in L^{s}}|\\{i \\in \\ell : \\text{payorgroup}(i) = r\\}|$."
   ]
  },
  {
   "cell_type": "code",
   "execution_count": null,
   "id": "cbca5405-0871-43de-89fa-418bcd8eb8eb",
   "metadata": {},
   "outputs": [],
   "source": [
    "# TODO"
   ]
  }
 ],
 "metadata": {
  "kernelspec": {
   "display_name": "Python 3 (ipykernel)",
   "language": "python",
   "name": "python3"
  },
  "language_info": {
   "codemirror_mode": {
    "name": "ipython",
    "version": 3
   },
   "file_extension": ".py",
   "mimetype": "text/x-python",
   "name": "python",
   "nbconvert_exporter": "python",
   "pygments_lexer": "ipython3",
   "version": "3.9.7"
  }
 },
 "nbformat": 4,
 "nbformat_minor": 5
}
